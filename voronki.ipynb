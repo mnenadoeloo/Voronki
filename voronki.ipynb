{
 "cells": [
  {
   "cell_type": "markdown",
   "id": "1b354fcb",
   "metadata": {},
   "source": [
    "# Описание проекта  \n",
    "\n",
    "Вы работаете в стартапе, который продаёт продукты питания. Нужно разобраться, как ведут себя пользователи вашего мобильного приложения.  \n",
    "\n",
    "Изучите воронку продаж. Узнайте, как пользователи доходят до покупки. Сколько пользователей доходит до покупки, а сколько — «застревает» на предыдущих шагах? На каких именно?  \n",
    "\n",
    "После этого исследуйте результаты A/A/B-эксперимента. Дизайнеры захотели поменять шрифты во всём приложении, а менеджеры испугались, что пользователям будет непривычно. Договорились принять решение по результатам A/A/B-теста. Пользователей разбили на 3 группы: 2 контрольные со старыми шрифтами и одну экспериментальную — с новыми. Выясните, какой шрифт лучше.  \n",
    "\n",
    "Создание двух групп A вместо одной имеет определённые преимущества. Если две контрольные группы окажутся равны, вы можете быть уверены в точности проведенного тестирования. Если же между значениями A и A будут существенные различия, это поможет обнаружить факторы, которые привели к искажению результатов. Сравнение контрольных групп также помогает понять, сколько времени и данных потребуется для дальнейших тестов.  \n",
    " \n",
    "\n",
    "### Описание данных  \n",
    "\n",
    "Каждая запись в логе — это действие пользователя, или событие.  \n",
    "EventName — название события;  \n",
    "DeviceIDHash — уникальный идентификатор пользователя;  \n",
    "EventTimestamp — время события;  \n",
    "ExpId — номер эксперимента: 246 и 247 — контрольные группы, а 248 — экспериментальная.  \n"
   ]
  },
  {
   "cell_type": "markdown",
   "id": "7e3d69e5",
   "metadata": {},
   "source": [
    "## СОДЕРЖАНИЕ <a id=\"soder\"></a>\n",
    "\n",
    "[Шаг 1. Открытие файла с данными и изучение общей информации](#shag1)  \n",
    "\n",
    "[Шаг 2. Подготовка данных](#shag2) \n",
    "\n",
    "[2.1 Количество событий](#shag2.1)   \n",
    "[2.2 Количество пользователей](#shag2.2)   \n",
    "[2.3 Среднее кол-во событий на пользователя](#shag2.3)  \n",
    "[2.4 Распределение данных во времени](#shag2.4)  \n",
    "[2.5 Кол-во отрезаных данных](#shag2.5)  \n",
    "[2.6 Проверка пользователей в группах](#shag2.6)  \n",
    "    \n",
    "[Шаг 3. Изучение воронки событий](#shag3)  \n",
    "    [3.1 События](#shag3.1)  \n",
    "    [3.2 Пользователи и события](#shag3.2)  \n",
    "    [3.4 Порядок событий в воронке](#shag3.3)   \n",
    "\n",
    "[Шаг 4. Изучение результатов эксперимента](#shag4)  \n",
    "    [4.1 Кол-во пользователей в группах](#shag4.1)  \n",
    "    [4.2 А1/А2/B - эксперимент (пользователи)](#shag4.2)  \n",
    "    [4.3 Выводы](#shag4.3)  \n",
    "    "
   ]
  },
  {
   "cell_type": "markdown",
   "id": "ff8b7b9f",
   "metadata": {},
   "source": [
    "# Шаг 1. Открытие файла с данными и изучение общей информации<a id=\"shag1\"></a>  \n"
   ]
  },
  {
   "cell_type": "code",
   "execution_count": 1,
   "id": "d612a7d4",
   "metadata": {},
   "outputs": [],
   "source": [
    "from scipy import stats as st\n",
    "\n",
    "import numpy as np\n",
    "import pandas as pd\n",
    "\n",
    "import matplotlib.pyplot as plt\n",
    "import seaborn as sns\n",
    "\n",
    "import datetime as dt\n",
    "\n",
    "import re \n",
    "import math as mth\n",
    "\n",
    "pd.set_option('display.max_colwidth', 500)"
   ]
  },
  {
   "cell_type": "code",
   "execution_count": 18,
   "id": "dff36273",
   "metadata": {},
   "outputs": [],
   "source": [
    "df = pd.read_csv('afisha.csv')\n",
    "df = df.drop('Unnamed: 0', axis=1)"
   ]
  },
  {
   "cell_type": "code",
   "execution_count": 19,
   "id": "09a49118",
   "metadata": {},
   "outputs": [
    {
     "data": {
      "text/html": [
       "<div>\n",
       "<style scoped>\n",
       "    .dataframe tbody tr th:only-of-type {\n",
       "        vertical-align: middle;\n",
       "    }\n",
       "\n",
       "    .dataframe tbody tr th {\n",
       "        vertical-align: top;\n",
       "    }\n",
       "\n",
       "    .dataframe thead th {\n",
       "        text-align: right;\n",
       "    }\n",
       "</style>\n",
       "<table border=\"1\" class=\"dataframe\">\n",
       "  <thead>\n",
       "    <tr style=\"text-align: right;\">\n",
       "      <th></th>\n",
       "      <th>EventName</th>\n",
       "      <th>DeviceIDHash</th>\n",
       "      <th>EventTimestamp</th>\n",
       "      <th>ExpId</th>\n",
       "    </tr>\n",
       "  </thead>\n",
       "  <tbody>\n",
       "    <tr>\n",
       "      <th>42172</th>\n",
       "      <td>OffersScreenAppear</td>\n",
       "      <td>1189296733004917712</td>\n",
       "      <td>1564718960</td>\n",
       "      <td>246</td>\n",
       "    </tr>\n",
       "    <tr>\n",
       "      <th>173535</th>\n",
       "      <td>MainScreenAppear</td>\n",
       "      <td>4864098461386716960</td>\n",
       "      <td>1565032060</td>\n",
       "      <td>248</td>\n",
       "    </tr>\n",
       "    <tr>\n",
       "      <th>10233</th>\n",
       "      <td>MainScreenAppear</td>\n",
       "      <td>1375557487947093308</td>\n",
       "      <td>1564648150</td>\n",
       "      <td>248</td>\n",
       "    </tr>\n",
       "    <tr>\n",
       "      <th>20253</th>\n",
       "      <td>MainScreenAppear</td>\n",
       "      <td>463651380788988263</td>\n",
       "      <td>1564664197</td>\n",
       "      <td>248</td>\n",
       "    </tr>\n",
       "    <tr>\n",
       "      <th>233989</th>\n",
       "      <td>CartScreenAppear</td>\n",
       "      <td>3337471580007169353</td>\n",
       "      <td>1565191463</td>\n",
       "      <td>246</td>\n",
       "    </tr>\n",
       "  </tbody>\n",
       "</table>\n",
       "</div>"
      ],
      "text/plain": [
       "                 EventName         DeviceIDHash  EventTimestamp  ExpId\n",
       "42172   OffersScreenAppear  1189296733004917712      1564718960    246\n",
       "173535    MainScreenAppear  4864098461386716960      1565032060    248\n",
       "10233     MainScreenAppear  1375557487947093308      1564648150    248\n",
       "20253     MainScreenAppear   463651380788988263      1564664197    248\n",
       "233989    CartScreenAppear  3337471580007169353      1565191463    246"
      ]
     },
     "execution_count": 19,
     "metadata": {},
     "output_type": "execute_result"
    }
   ],
   "source": [
    "df.sample(5)"
   ]
  },
  {
   "cell_type": "code",
   "execution_count": 20,
   "id": "a399d270",
   "metadata": {
    "scrolled": true
   },
   "outputs": [
    {
     "name": "stdout",
     "output_type": "stream",
     "text": [
      "<class 'pandas.core.frame.DataFrame'>\n",
      "RangeIndex: 244126 entries, 0 to 244125\n",
      "Data columns (total 4 columns):\n",
      " #   Column          Non-Null Count   Dtype \n",
      "---  ------          --------------   ----- \n",
      " 0   EventName       244126 non-null  object\n",
      " 1   DeviceIDHash    244126 non-null  int64 \n",
      " 2   EventTimestamp  244126 non-null  int64 \n",
      " 3   ExpId           244126 non-null  int64 \n",
      "dtypes: int64(3), object(1)\n",
      "memory usage: 7.5+ MB\n"
     ]
    }
   ],
   "source": [
    "df.info()"
   ]
  },
  {
   "cell_type": "code",
   "execution_count": 21,
   "id": "46b8fde8",
   "metadata": {
    "scrolled": true
   },
   "outputs": [
    {
     "data": {
      "text/html": [
       "<div>\n",
       "<style scoped>\n",
       "    .dataframe tbody tr th:only-of-type {\n",
       "        vertical-align: middle;\n",
       "    }\n",
       "\n",
       "    .dataframe tbody tr th {\n",
       "        vertical-align: top;\n",
       "    }\n",
       "\n",
       "    .dataframe thead th {\n",
       "        text-align: right;\n",
       "    }\n",
       "</style>\n",
       "<table border=\"1\" class=\"dataframe\">\n",
       "  <thead>\n",
       "    <tr style=\"text-align: right;\">\n",
       "      <th></th>\n",
       "      <th>DeviceIDHash</th>\n",
       "      <th>EventTimestamp</th>\n",
       "      <th>ExpId</th>\n",
       "    </tr>\n",
       "  </thead>\n",
       "  <tbody>\n",
       "    <tr>\n",
       "      <th>count</th>\n",
       "      <td>2.441260e+05</td>\n",
       "      <td>2.441260e+05</td>\n",
       "      <td>244126.000000</td>\n",
       "    </tr>\n",
       "    <tr>\n",
       "      <th>mean</th>\n",
       "      <td>4.627568e+18</td>\n",
       "      <td>1.564914e+09</td>\n",
       "      <td>247.022296</td>\n",
       "    </tr>\n",
       "    <tr>\n",
       "      <th>std</th>\n",
       "      <td>2.642425e+18</td>\n",
       "      <td>1.771343e+05</td>\n",
       "      <td>0.824434</td>\n",
       "    </tr>\n",
       "    <tr>\n",
       "      <th>min</th>\n",
       "      <td>6.888747e+15</td>\n",
       "      <td>1.564030e+09</td>\n",
       "      <td>246.000000</td>\n",
       "    </tr>\n",
       "    <tr>\n",
       "      <th>25%</th>\n",
       "      <td>2.372212e+18</td>\n",
       "      <td>1.564757e+09</td>\n",
       "      <td>246.000000</td>\n",
       "    </tr>\n",
       "    <tr>\n",
       "      <th>50%</th>\n",
       "      <td>4.623192e+18</td>\n",
       "      <td>1.564919e+09</td>\n",
       "      <td>247.000000</td>\n",
       "    </tr>\n",
       "    <tr>\n",
       "      <th>75%</th>\n",
       "      <td>6.932517e+18</td>\n",
       "      <td>1.565075e+09</td>\n",
       "      <td>248.000000</td>\n",
       "    </tr>\n",
       "    <tr>\n",
       "      <th>max</th>\n",
       "      <td>9.222603e+18</td>\n",
       "      <td>1.565213e+09</td>\n",
       "      <td>248.000000</td>\n",
       "    </tr>\n",
       "  </tbody>\n",
       "</table>\n",
       "</div>"
      ],
      "text/plain": [
       "       DeviceIDHash  EventTimestamp          ExpId\n",
       "count  2.441260e+05    2.441260e+05  244126.000000\n",
       "mean   4.627568e+18    1.564914e+09     247.022296\n",
       "std    2.642425e+18    1.771343e+05       0.824434\n",
       "min    6.888747e+15    1.564030e+09     246.000000\n",
       "25%    2.372212e+18    1.564757e+09     246.000000\n",
       "50%    4.623192e+18    1.564919e+09     247.000000\n",
       "75%    6.932517e+18    1.565075e+09     248.000000\n",
       "max    9.222603e+18    1.565213e+09     248.000000"
      ]
     },
     "execution_count": 21,
     "metadata": {},
     "output_type": "execute_result"
    }
   ],
   "source": [
    "df.describe()"
   ]
  },
  {
   "cell_type": "code",
   "execution_count": 22,
   "id": "e461f336",
   "metadata": {},
   "outputs": [
    {
     "data": {
      "text/plain": [
       "MainScreenAppear           119205\n",
       "OffersScreenAppear          46825\n",
       "CartScreenAppear            42731\n",
       "PaymentScreenSuccessful     34313\n",
       "Tutorial                     1052\n",
       "Name: EventName, dtype: int64"
      ]
     },
     "execution_count": 22,
     "metadata": {},
     "output_type": "execute_result"
    }
   ],
   "source": [
    "df['EventName'].value_counts()"
   ]
  },
  {
   "cell_type": "markdown",
   "id": "13d8339f",
   "metadata": {},
   "source": [
    "**На первый взгляд очень хорошо. Пропусков нет. Выбросов нет.**"
   ]
  },
  {
   "cell_type": "markdown",
   "id": "c0b18db0",
   "metadata": {},
   "source": [
    "# Шаг 2. Подготовка данных <a id=\"shag2\"></a>  \n"
   ]
  },
  {
   "cell_type": "markdown",
   "id": "7d3118ba",
   "metadata": {},
   "source": [
    "**Дальнейшие действия:**\n",
    "    \n",
    "    -Заменить названия столбцов на удобные для меня;  \n",
    "   \n",
    "    -Проверить пропуски и типы данных. Откорректировать, если нужно;  \n",
    "    \n",
    "    -Добавить столбец даты и времени, а также отдельный столбец дат;"
   ]
  },
  {
   "cell_type": "markdown",
   "id": "b7e4a640",
   "metadata": {},
   "source": [
    "**Заменим названия столбцов на более удобные:**"
   ]
  },
  {
   "cell_type": "code",
   "execution_count": 23,
   "id": "789db506",
   "metadata": {
    "scrolled": true
   },
   "outputs": [
    {
     "data": {
      "text/html": [
       "<div>\n",
       "<style scoped>\n",
       "    .dataframe tbody tr th:only-of-type {\n",
       "        vertical-align: middle;\n",
       "    }\n",
       "\n",
       "    .dataframe tbody tr th {\n",
       "        vertical-align: top;\n",
       "    }\n",
       "\n",
       "    .dataframe thead th {\n",
       "        text-align: right;\n",
       "    }\n",
       "</style>\n",
       "<table border=\"1\" class=\"dataframe\">\n",
       "  <thead>\n",
       "    <tr style=\"text-align: right;\">\n",
       "      <th></th>\n",
       "      <th>event</th>\n",
       "      <th>user</th>\n",
       "      <th>timestamp</th>\n",
       "      <th>group</th>\n",
       "    </tr>\n",
       "  </thead>\n",
       "  <tbody>\n",
       "    <tr>\n",
       "      <th>0</th>\n",
       "      <td>MainScreenAppear</td>\n",
       "      <td>4575588528974610257</td>\n",
       "      <td>1564029816</td>\n",
       "      <td>246</td>\n",
       "    </tr>\n",
       "    <tr>\n",
       "      <th>1</th>\n",
       "      <td>MainScreenAppear</td>\n",
       "      <td>7416695313311560658</td>\n",
       "      <td>1564053102</td>\n",
       "      <td>246</td>\n",
       "    </tr>\n",
       "  </tbody>\n",
       "</table>\n",
       "</div>"
      ],
      "text/plain": [
       "              event                 user   timestamp  group\n",
       "0  MainScreenAppear  4575588528974610257  1564029816    246\n",
       "1  MainScreenAppear  7416695313311560658  1564053102    246"
      ]
     },
     "execution_count": 23,
     "metadata": {},
     "output_type": "execute_result"
    }
   ],
   "source": [
    "df.columns=['event', 'user', 'timestamp', 'group']\n",
    "df.head(2)"
   ]
  },
  {
   "cell_type": "markdown",
   "id": "afc992b0",
   "metadata": {},
   "source": [
    "**Пропусков нет. Создадим столбец \"datetime\" с датой и временем:**"
   ]
  },
  {
   "cell_type": "code",
   "execution_count": 24,
   "id": "5fa1dfea",
   "metadata": {},
   "outputs": [
    {
     "data": {
      "text/html": [
       "<div>\n",
       "<style scoped>\n",
       "    .dataframe tbody tr th:only-of-type {\n",
       "        vertical-align: middle;\n",
       "    }\n",
       "\n",
       "    .dataframe tbody tr th {\n",
       "        vertical-align: top;\n",
       "    }\n",
       "\n",
       "    .dataframe thead th {\n",
       "        text-align: right;\n",
       "    }\n",
       "</style>\n",
       "<table border=\"1\" class=\"dataframe\">\n",
       "  <thead>\n",
       "    <tr style=\"text-align: right;\">\n",
       "      <th></th>\n",
       "      <th>event</th>\n",
       "      <th>user</th>\n",
       "      <th>timestamp</th>\n",
       "      <th>group</th>\n",
       "      <th>datetime</th>\n",
       "    </tr>\n",
       "  </thead>\n",
       "  <tbody>\n",
       "    <tr>\n",
       "      <th>0</th>\n",
       "      <td>MainScreenAppear</td>\n",
       "      <td>4575588528974610257</td>\n",
       "      <td>1564029816</td>\n",
       "      <td>246</td>\n",
       "      <td>2019-07-25 04:43:36</td>\n",
       "    </tr>\n",
       "    <tr>\n",
       "      <th>1</th>\n",
       "      <td>MainScreenAppear</td>\n",
       "      <td>7416695313311560658</td>\n",
       "      <td>1564053102</td>\n",
       "      <td>246</td>\n",
       "      <td>2019-07-25 11:11:42</td>\n",
       "    </tr>\n",
       "    <tr>\n",
       "      <th>2</th>\n",
       "      <td>PaymentScreenSuccessful</td>\n",
       "      <td>3518123091307005509</td>\n",
       "      <td>1564054127</td>\n",
       "      <td>248</td>\n",
       "      <td>2019-07-25 11:28:47</td>\n",
       "    </tr>\n",
       "    <tr>\n",
       "      <th>3</th>\n",
       "      <td>CartScreenAppear</td>\n",
       "      <td>3518123091307005509</td>\n",
       "      <td>1564054127</td>\n",
       "      <td>248</td>\n",
       "      <td>2019-07-25 11:28:47</td>\n",
       "    </tr>\n",
       "    <tr>\n",
       "      <th>4</th>\n",
       "      <td>PaymentScreenSuccessful</td>\n",
       "      <td>6217807653094995999</td>\n",
       "      <td>1564055322</td>\n",
       "      <td>248</td>\n",
       "      <td>2019-07-25 11:48:42</td>\n",
       "    </tr>\n",
       "    <tr>\n",
       "      <th>...</th>\n",
       "      <td>...</td>\n",
       "      <td>...</td>\n",
       "      <td>...</td>\n",
       "      <td>...</td>\n",
       "      <td>...</td>\n",
       "    </tr>\n",
       "    <tr>\n",
       "      <th>244121</th>\n",
       "      <td>MainScreenAppear</td>\n",
       "      <td>4599628364049201812</td>\n",
       "      <td>1565212345</td>\n",
       "      <td>247</td>\n",
       "      <td>2019-08-07 21:12:25</td>\n",
       "    </tr>\n",
       "    <tr>\n",
       "      <th>244122</th>\n",
       "      <td>MainScreenAppear</td>\n",
       "      <td>5849806612437486590</td>\n",
       "      <td>1565212439</td>\n",
       "      <td>246</td>\n",
       "      <td>2019-08-07 21:13:59</td>\n",
       "    </tr>\n",
       "    <tr>\n",
       "      <th>244123</th>\n",
       "      <td>MainScreenAppear</td>\n",
       "      <td>5746969938801999050</td>\n",
       "      <td>1565212483</td>\n",
       "      <td>246</td>\n",
       "      <td>2019-08-07 21:14:43</td>\n",
       "    </tr>\n",
       "    <tr>\n",
       "      <th>244124</th>\n",
       "      <td>MainScreenAppear</td>\n",
       "      <td>5746969938801999050</td>\n",
       "      <td>1565212498</td>\n",
       "      <td>246</td>\n",
       "      <td>2019-08-07 21:14:58</td>\n",
       "    </tr>\n",
       "    <tr>\n",
       "      <th>244125</th>\n",
       "      <td>OffersScreenAppear</td>\n",
       "      <td>5746969938801999050</td>\n",
       "      <td>1565212517</td>\n",
       "      <td>246</td>\n",
       "      <td>2019-08-07 21:15:17</td>\n",
       "    </tr>\n",
       "  </tbody>\n",
       "</table>\n",
       "<p>244126 rows × 5 columns</p>\n",
       "</div>"
      ],
      "text/plain": [
       "                          event                 user   timestamp  group  \\\n",
       "0              MainScreenAppear  4575588528974610257  1564029816    246   \n",
       "1              MainScreenAppear  7416695313311560658  1564053102    246   \n",
       "2       PaymentScreenSuccessful  3518123091307005509  1564054127    248   \n",
       "3              CartScreenAppear  3518123091307005509  1564054127    248   \n",
       "4       PaymentScreenSuccessful  6217807653094995999  1564055322    248   \n",
       "...                         ...                  ...         ...    ...   \n",
       "244121         MainScreenAppear  4599628364049201812  1565212345    247   \n",
       "244122         MainScreenAppear  5849806612437486590  1565212439    246   \n",
       "244123         MainScreenAppear  5746969938801999050  1565212483    246   \n",
       "244124         MainScreenAppear  5746969938801999050  1565212498    246   \n",
       "244125       OffersScreenAppear  5746969938801999050  1565212517    246   \n",
       "\n",
       "                  datetime  \n",
       "0      2019-07-25 04:43:36  \n",
       "1      2019-07-25 11:11:42  \n",
       "2      2019-07-25 11:28:47  \n",
       "3      2019-07-25 11:28:47  \n",
       "4      2019-07-25 11:48:42  \n",
       "...                    ...  \n",
       "244121 2019-08-07 21:12:25  \n",
       "244122 2019-08-07 21:13:59  \n",
       "244123 2019-08-07 21:14:43  \n",
       "244124 2019-08-07 21:14:58  \n",
       "244125 2019-08-07 21:15:17  \n",
       "\n",
       "[244126 rows x 5 columns]"
      ]
     },
     "execution_count": 24,
     "metadata": {},
     "output_type": "execute_result"
    }
   ],
   "source": [
    "df['datetime'] = pd.to_datetime(df['timestamp'], unit='s')\n",
    "df.sample(5)"
   ]
  },
  {
   "cell_type": "markdown",
   "id": "5e5a04f0",
   "metadata": {},
   "source": [
    "**Добавим столбец с датой:**"
   ]
  },
  {
   "cell_type": "code",
   "execution_count": 25,
   "id": "c8e5fed3",
   "metadata": {
    "scrolled": true
   },
   "outputs": [
    {
     "data": {
      "text/html": [
       "<div>\n",
       "<style scoped>\n",
       "    .dataframe tbody tr th:only-of-type {\n",
       "        vertical-align: middle;\n",
       "    }\n",
       "\n",
       "    .dataframe tbody tr th {\n",
       "        vertical-align: top;\n",
       "    }\n",
       "\n",
       "    .dataframe thead th {\n",
       "        text-align: right;\n",
       "    }\n",
       "</style>\n",
       "<table border=\"1\" class=\"dataframe\">\n",
       "  <thead>\n",
       "    <tr style=\"text-align: right;\">\n",
       "      <th></th>\n",
       "      <th>event</th>\n",
       "      <th>user</th>\n",
       "      <th>timestamp</th>\n",
       "      <th>group</th>\n",
       "      <th>datetime</th>\n",
       "      <th>date</th>\n",
       "    </tr>\n",
       "  </thead>\n",
       "  <tbody>\n",
       "    <tr>\n",
       "      <th>0</th>\n",
       "      <td>MainScreenAppear</td>\n",
       "      <td>4575588528974610257</td>\n",
       "      <td>1564029816</td>\n",
       "      <td>246</td>\n",
       "      <td>2019-07-25 04:43:36</td>\n",
       "      <td>2019-07-25</td>\n",
       "    </tr>\n",
       "    <tr>\n",
       "      <th>1</th>\n",
       "      <td>MainScreenAppear</td>\n",
       "      <td>7416695313311560658</td>\n",
       "      <td>1564053102</td>\n",
       "      <td>246</td>\n",
       "      <td>2019-07-25 11:11:42</td>\n",
       "      <td>2019-07-25</td>\n",
       "    </tr>\n",
       "    <tr>\n",
       "      <th>2</th>\n",
       "      <td>PaymentScreenSuccessful</td>\n",
       "      <td>3518123091307005509</td>\n",
       "      <td>1564054127</td>\n",
       "      <td>248</td>\n",
       "      <td>2019-07-25 11:28:47</td>\n",
       "      <td>2019-07-25</td>\n",
       "    </tr>\n",
       "    <tr>\n",
       "      <th>3</th>\n",
       "      <td>CartScreenAppear</td>\n",
       "      <td>3518123091307005509</td>\n",
       "      <td>1564054127</td>\n",
       "      <td>248</td>\n",
       "      <td>2019-07-25 11:28:47</td>\n",
       "      <td>2019-07-25</td>\n",
       "    </tr>\n",
       "    <tr>\n",
       "      <th>4</th>\n",
       "      <td>PaymentScreenSuccessful</td>\n",
       "      <td>6217807653094995999</td>\n",
       "      <td>1564055322</td>\n",
       "      <td>248</td>\n",
       "      <td>2019-07-25 11:48:42</td>\n",
       "      <td>2019-07-25</td>\n",
       "    </tr>\n",
       "    <tr>\n",
       "      <th>...</th>\n",
       "      <td>...</td>\n",
       "      <td>...</td>\n",
       "      <td>...</td>\n",
       "      <td>...</td>\n",
       "      <td>...</td>\n",
       "      <td>...</td>\n",
       "    </tr>\n",
       "    <tr>\n",
       "      <th>244121</th>\n",
       "      <td>MainScreenAppear</td>\n",
       "      <td>4599628364049201812</td>\n",
       "      <td>1565212345</td>\n",
       "      <td>247</td>\n",
       "      <td>2019-08-07 21:12:25</td>\n",
       "      <td>2019-08-07</td>\n",
       "    </tr>\n",
       "    <tr>\n",
       "      <th>244122</th>\n",
       "      <td>MainScreenAppear</td>\n",
       "      <td>5849806612437486590</td>\n",
       "      <td>1565212439</td>\n",
       "      <td>246</td>\n",
       "      <td>2019-08-07 21:13:59</td>\n",
       "      <td>2019-08-07</td>\n",
       "    </tr>\n",
       "    <tr>\n",
       "      <th>244123</th>\n",
       "      <td>MainScreenAppear</td>\n",
       "      <td>5746969938801999050</td>\n",
       "      <td>1565212483</td>\n",
       "      <td>246</td>\n",
       "      <td>2019-08-07 21:14:43</td>\n",
       "      <td>2019-08-07</td>\n",
       "    </tr>\n",
       "    <tr>\n",
       "      <th>244124</th>\n",
       "      <td>MainScreenAppear</td>\n",
       "      <td>5746969938801999050</td>\n",
       "      <td>1565212498</td>\n",
       "      <td>246</td>\n",
       "      <td>2019-08-07 21:14:58</td>\n",
       "      <td>2019-08-07</td>\n",
       "    </tr>\n",
       "    <tr>\n",
       "      <th>244125</th>\n",
       "      <td>OffersScreenAppear</td>\n",
       "      <td>5746969938801999050</td>\n",
       "      <td>1565212517</td>\n",
       "      <td>246</td>\n",
       "      <td>2019-08-07 21:15:17</td>\n",
       "      <td>2019-08-07</td>\n",
       "    </tr>\n",
       "  </tbody>\n",
       "</table>\n",
       "<p>244126 rows × 6 columns</p>\n",
       "</div>"
      ],
      "text/plain": [
       "                          event                 user   timestamp  group  \\\n",
       "0              MainScreenAppear  4575588528974610257  1564029816    246   \n",
       "1              MainScreenAppear  7416695313311560658  1564053102    246   \n",
       "2       PaymentScreenSuccessful  3518123091307005509  1564054127    248   \n",
       "3              CartScreenAppear  3518123091307005509  1564054127    248   \n",
       "4       PaymentScreenSuccessful  6217807653094995999  1564055322    248   \n",
       "...                         ...                  ...         ...    ...   \n",
       "244121         MainScreenAppear  4599628364049201812  1565212345    247   \n",
       "244122         MainScreenAppear  5849806612437486590  1565212439    246   \n",
       "244123         MainScreenAppear  5746969938801999050  1565212483    246   \n",
       "244124         MainScreenAppear  5746969938801999050  1565212498    246   \n",
       "244125       OffersScreenAppear  5746969938801999050  1565212517    246   \n",
       "\n",
       "                  datetime        date  \n",
       "0      2019-07-25 04:43:36  2019-07-25  \n",
       "1      2019-07-25 11:11:42  2019-07-25  \n",
       "2      2019-07-25 11:28:47  2019-07-25  \n",
       "3      2019-07-25 11:28:47  2019-07-25  \n",
       "4      2019-07-25 11:48:42  2019-07-25  \n",
       "...                    ...         ...  \n",
       "244121 2019-08-07 21:12:25  2019-08-07  \n",
       "244122 2019-08-07 21:13:59  2019-08-07  \n",
       "244123 2019-08-07 21:14:43  2019-08-07  \n",
       "244124 2019-08-07 21:14:58  2019-08-07  \n",
       "244125 2019-08-07 21:15:17  2019-08-07  \n",
       "\n",
       "[244126 rows x 6 columns]"
      ]
     },
     "execution_count": 25,
     "metadata": {},
     "output_type": "execute_result"
    }
   ],
   "source": [
    "df['date'] = df['datetime'].dt.date\n",
    "df.sample(5)"
   ]
  },
  {
   "cell_type": "markdown",
   "id": "ab4a949d",
   "metadata": {},
   "source": [
    "**Для удобства исправим значения в столбце \"group\": 246 и 247 — контрольные группы иправим на A1 и A2, а 248 — экспериментальная на B.**"
   ]
  },
  {
   "cell_type": "code",
   "execution_count": 26,
   "id": "d60c128a",
   "metadata": {},
   "outputs": [
    {
     "data": {
      "text/html": [
       "<div>\n",
       "<style scoped>\n",
       "    .dataframe tbody tr th:only-of-type {\n",
       "        vertical-align: middle;\n",
       "    }\n",
       "\n",
       "    .dataframe tbody tr th {\n",
       "        vertical-align: top;\n",
       "    }\n",
       "\n",
       "    .dataframe thead th {\n",
       "        text-align: right;\n",
       "    }\n",
       "</style>\n",
       "<table border=\"1\" class=\"dataframe\">\n",
       "  <thead>\n",
       "    <tr style=\"text-align: right;\">\n",
       "      <th></th>\n",
       "      <th>event</th>\n",
       "      <th>user</th>\n",
       "      <th>timestamp</th>\n",
       "      <th>group</th>\n",
       "      <th>datetime</th>\n",
       "      <th>date</th>\n",
       "    </tr>\n",
       "  </thead>\n",
       "  <tbody>\n",
       "    <tr>\n",
       "      <th>0</th>\n",
       "      <td>MainScreenAppear</td>\n",
       "      <td>4575588528974610257</td>\n",
       "      <td>1564029816</td>\n",
       "      <td>A1</td>\n",
       "      <td>2019-07-25 04:43:36</td>\n",
       "      <td>2019-07-25</td>\n",
       "    </tr>\n",
       "    <tr>\n",
       "      <th>1</th>\n",
       "      <td>MainScreenAppear</td>\n",
       "      <td>7416695313311560658</td>\n",
       "      <td>1564053102</td>\n",
       "      <td>A1</td>\n",
       "      <td>2019-07-25 11:11:42</td>\n",
       "      <td>2019-07-25</td>\n",
       "    </tr>\n",
       "    <tr>\n",
       "      <th>2</th>\n",
       "      <td>PaymentScreenSuccessful</td>\n",
       "      <td>3518123091307005509</td>\n",
       "      <td>1564054127</td>\n",
       "      <td>B</td>\n",
       "      <td>2019-07-25 11:28:47</td>\n",
       "      <td>2019-07-25</td>\n",
       "    </tr>\n",
       "    <tr>\n",
       "      <th>3</th>\n",
       "      <td>CartScreenAppear</td>\n",
       "      <td>3518123091307005509</td>\n",
       "      <td>1564054127</td>\n",
       "      <td>B</td>\n",
       "      <td>2019-07-25 11:28:47</td>\n",
       "      <td>2019-07-25</td>\n",
       "    </tr>\n",
       "    <tr>\n",
       "      <th>4</th>\n",
       "      <td>PaymentScreenSuccessful</td>\n",
       "      <td>6217807653094995999</td>\n",
       "      <td>1564055322</td>\n",
       "      <td>B</td>\n",
       "      <td>2019-07-25 11:48:42</td>\n",
       "      <td>2019-07-25</td>\n",
       "    </tr>\n",
       "    <tr>\n",
       "      <th>...</th>\n",
       "      <td>...</td>\n",
       "      <td>...</td>\n",
       "      <td>...</td>\n",
       "      <td>...</td>\n",
       "      <td>...</td>\n",
       "      <td>...</td>\n",
       "    </tr>\n",
       "    <tr>\n",
       "      <th>244121</th>\n",
       "      <td>MainScreenAppear</td>\n",
       "      <td>4599628364049201812</td>\n",
       "      <td>1565212345</td>\n",
       "      <td>A2</td>\n",
       "      <td>2019-08-07 21:12:25</td>\n",
       "      <td>2019-08-07</td>\n",
       "    </tr>\n",
       "    <tr>\n",
       "      <th>244122</th>\n",
       "      <td>MainScreenAppear</td>\n",
       "      <td>5849806612437486590</td>\n",
       "      <td>1565212439</td>\n",
       "      <td>A1</td>\n",
       "      <td>2019-08-07 21:13:59</td>\n",
       "      <td>2019-08-07</td>\n",
       "    </tr>\n",
       "    <tr>\n",
       "      <th>244123</th>\n",
       "      <td>MainScreenAppear</td>\n",
       "      <td>5746969938801999050</td>\n",
       "      <td>1565212483</td>\n",
       "      <td>A1</td>\n",
       "      <td>2019-08-07 21:14:43</td>\n",
       "      <td>2019-08-07</td>\n",
       "    </tr>\n",
       "    <tr>\n",
       "      <th>244124</th>\n",
       "      <td>MainScreenAppear</td>\n",
       "      <td>5746969938801999050</td>\n",
       "      <td>1565212498</td>\n",
       "      <td>A1</td>\n",
       "      <td>2019-08-07 21:14:58</td>\n",
       "      <td>2019-08-07</td>\n",
       "    </tr>\n",
       "    <tr>\n",
       "      <th>244125</th>\n",
       "      <td>OffersScreenAppear</td>\n",
       "      <td>5746969938801999050</td>\n",
       "      <td>1565212517</td>\n",
       "      <td>A1</td>\n",
       "      <td>2019-08-07 21:15:17</td>\n",
       "      <td>2019-08-07</td>\n",
       "    </tr>\n",
       "  </tbody>\n",
       "</table>\n",
       "<p>244126 rows × 6 columns</p>\n",
       "</div>"
      ],
      "text/plain": [
       "                          event                 user   timestamp group  \\\n",
       "0              MainScreenAppear  4575588528974610257  1564029816    A1   \n",
       "1              MainScreenAppear  7416695313311560658  1564053102    A1   \n",
       "2       PaymentScreenSuccessful  3518123091307005509  1564054127     B   \n",
       "3              CartScreenAppear  3518123091307005509  1564054127     B   \n",
       "4       PaymentScreenSuccessful  6217807653094995999  1564055322     B   \n",
       "...                         ...                  ...         ...   ...   \n",
       "244121         MainScreenAppear  4599628364049201812  1565212345    A2   \n",
       "244122         MainScreenAppear  5849806612437486590  1565212439    A1   \n",
       "244123         MainScreenAppear  5746969938801999050  1565212483    A1   \n",
       "244124         MainScreenAppear  5746969938801999050  1565212498    A1   \n",
       "244125       OffersScreenAppear  5746969938801999050  1565212517    A1   \n",
       "\n",
       "                  datetime        date  \n",
       "0      2019-07-25 04:43:36  2019-07-25  \n",
       "1      2019-07-25 11:11:42  2019-07-25  \n",
       "2      2019-07-25 11:28:47  2019-07-25  \n",
       "3      2019-07-25 11:28:47  2019-07-25  \n",
       "4      2019-07-25 11:48:42  2019-07-25  \n",
       "...                    ...         ...  \n",
       "244121 2019-08-07 21:12:25  2019-08-07  \n",
       "244122 2019-08-07 21:13:59  2019-08-07  \n",
       "244123 2019-08-07 21:14:43  2019-08-07  \n",
       "244124 2019-08-07 21:14:58  2019-08-07  \n",
       "244125 2019-08-07 21:15:17  2019-08-07  \n",
       "\n",
       "[244126 rows x 6 columns]"
      ]
     },
     "execution_count": 26,
     "metadata": {},
     "output_type": "execute_result"
    }
   ],
   "source": [
    "def aab_group(gr):\n",
    "    if gr==246:\n",
    "        return 'A1'\n",
    "    elif gr==247:\n",
    "        return 'A2'\n",
    "    elif gr==248:\n",
    "        return 'B'\n",
    "    else:\n",
    "        return 'UnknownGroup'\n",
    "\n",
    "df['group'] = df['group'].apply(aab_group)\n",
    "df"
   ]
  },
  {
   "cell_type": "code",
   "execution_count": 27,
   "id": "883a3459",
   "metadata": {},
   "outputs": [
    {
     "data": {
      "text/plain": [
       "B     85747\n",
       "A1    80304\n",
       "A2    78075\n",
       "Name: group, dtype: int64"
      ]
     },
     "execution_count": 27,
     "metadata": {},
     "output_type": "execute_result"
    }
   ],
   "source": [
    "df['group'].value_counts()"
   ]
  },
  {
   "cell_type": "markdown",
   "id": "9699702c",
   "metadata": {},
   "source": [
    "***С группами всё в порядке***\n",
    "\n",
    "**Еще раз проверим типы данных**"
   ]
  },
  {
   "cell_type": "code",
   "execution_count": 28,
   "id": "4d1ddb64",
   "metadata": {
    "scrolled": true
   },
   "outputs": [
    {
     "name": "stdout",
     "output_type": "stream",
     "text": [
      "<class 'pandas.core.frame.DataFrame'>\n",
      "RangeIndex: 244126 entries, 0 to 244125\n",
      "Data columns (total 6 columns):\n",
      " #   Column     Non-Null Count   Dtype         \n",
      "---  ------     --------------   -----         \n",
      " 0   event      244126 non-null  object        \n",
      " 1   user       244126 non-null  int64         \n",
      " 2   timestamp  244126 non-null  int64         \n",
      " 3   group      244126 non-null  object        \n",
      " 4   datetime   244126 non-null  datetime64[ns]\n",
      " 5   date       244126 non-null  object        \n",
      "dtypes: datetime64[ns](1), int64(2), object(3)\n",
      "memory usage: 11.2+ MB\n"
     ]
    }
   ],
   "source": [
    "df.info()"
   ]
  },
  {
   "cell_type": "markdown",
   "id": "e7d4a0f1",
   "metadata": {},
   "source": [
    "**В столбце \"date\" поменяем тип на \"datetime64\"**"
   ]
  },
  {
   "cell_type": "code",
   "execution_count": 29,
   "id": "6acdb494",
   "metadata": {},
   "outputs": [
    {
     "name": "stdout",
     "output_type": "stream",
     "text": [
      "<class 'pandas.core.frame.DataFrame'>\n",
      "RangeIndex: 244126 entries, 0 to 244125\n",
      "Data columns (total 6 columns):\n",
      " #   Column     Non-Null Count   Dtype         \n",
      "---  ------     --------------   -----         \n",
      " 0   event      244126 non-null  object        \n",
      " 1   user       244126 non-null  int64         \n",
      " 2   timestamp  244126 non-null  int64         \n",
      " 3   group      244126 non-null  object        \n",
      " 4   datetime   244126 non-null  datetime64[ns]\n",
      " 5   date       244126 non-null  datetime64[ns]\n",
      "dtypes: datetime64[ns](2), int64(2), object(2)\n",
      "memory usage: 11.2+ MB\n"
     ]
    }
   ],
   "source": [
    "df['date'] = df['date'].astype('datetime64')\n",
    "df.info()"
   ]
  },
  {
   "cell_type": "markdown",
   "id": "dc1ba318",
   "metadata": {},
   "source": [
    "**Проверим дубликаты:**"
   ]
  },
  {
   "cell_type": "code",
   "execution_count": 30,
   "id": "7c480fe7",
   "metadata": {
    "scrolled": true
   },
   "outputs": [
    {
     "data": {
      "text/plain": [
       "'Кол-во дубликатов ='"
      ]
     },
     "metadata": {},
     "output_type": "display_data"
    },
    {
     "data": {
      "text/plain": [
       "413"
      ]
     },
     "metadata": {},
     "output_type": "display_data"
    }
   ],
   "source": [
    "display('Кол-во дубликатов =',df.duplicated(['event', 'user', 'datetime', 'group']).sum())"
   ]
  },
  {
   "cell_type": "markdown",
   "id": "1eccfb80",
   "metadata": {},
   "source": [
    "***413 дубликатов, маловероятно что один и тот же пользователь в одной группе совершал одинаковые события в одно и тоже время, - дубликаты надо удалять. Но сначала посмотрим что там:***"
   ]
  },
  {
   "cell_type": "code",
   "execution_count": 31,
   "id": "feb322b3",
   "metadata": {},
   "outputs": [
    {
     "data": {
      "text/html": [
       "<div>\n",
       "<style scoped>\n",
       "    .dataframe tbody tr th:only-of-type {\n",
       "        vertical-align: middle;\n",
       "    }\n",
       "\n",
       "    .dataframe tbody tr th {\n",
       "        vertical-align: top;\n",
       "    }\n",
       "\n",
       "    .dataframe thead th {\n",
       "        text-align: right;\n",
       "    }\n",
       "</style>\n",
       "<table border=\"1\" class=\"dataframe\">\n",
       "  <thead>\n",
       "    <tr style=\"text-align: right;\">\n",
       "      <th></th>\n",
       "      <th>event</th>\n",
       "      <th>user</th>\n",
       "      <th>timestamp</th>\n",
       "      <th>group</th>\n",
       "      <th>datetime</th>\n",
       "      <th>date</th>\n",
       "    </tr>\n",
       "  </thead>\n",
       "  <tbody>\n",
       "    <tr>\n",
       "      <th>130558</th>\n",
       "      <td>MainScreenAppear</td>\n",
       "      <td>33176906322804559</td>\n",
       "      <td>1564933075</td>\n",
       "      <td>B</td>\n",
       "      <td>2019-08-04 15:37:55</td>\n",
       "      <td>2019-08-04</td>\n",
       "    </tr>\n",
       "    <tr>\n",
       "      <th>130995</th>\n",
       "      <td>OffersScreenAppear</td>\n",
       "      <td>33176906322804559</td>\n",
       "      <td>1564933763</td>\n",
       "      <td>B</td>\n",
       "      <td>2019-08-04 15:49:23</td>\n",
       "      <td>2019-08-04</td>\n",
       "    </tr>\n",
       "    <tr>\n",
       "      <th>104108</th>\n",
       "      <td>CartScreenAppear</td>\n",
       "      <td>34565258828294726</td>\n",
       "      <td>1564857221</td>\n",
       "      <td>B</td>\n",
       "      <td>2019-08-03 18:33:41</td>\n",
       "      <td>2019-08-03</td>\n",
       "    </tr>\n",
       "    <tr>\n",
       "      <th>159302</th>\n",
       "      <td>PaymentScreenSuccessful</td>\n",
       "      <td>54903596035630984</td>\n",
       "      <td>1565011672</td>\n",
       "      <td>B</td>\n",
       "      <td>2019-08-05 13:27:52</td>\n",
       "      <td>2019-08-05</td>\n",
       "    </tr>\n",
       "    <tr>\n",
       "      <th>176813</th>\n",
       "      <td>PaymentScreenSuccessful</td>\n",
       "      <td>77364241990273403</td>\n",
       "      <td>1565044732</td>\n",
       "      <td>A1</td>\n",
       "      <td>2019-08-05 22:38:52</td>\n",
       "      <td>2019-08-05</td>\n",
       "    </tr>\n",
       "    <tr>\n",
       "      <th>189896</th>\n",
       "      <td>MainScreenAppear</td>\n",
       "      <td>91292479590032512</td>\n",
       "      <td>1565087723</td>\n",
       "      <td>A1</td>\n",
       "      <td>2019-08-06 10:35:23</td>\n",
       "      <td>2019-08-06</td>\n",
       "    </tr>\n",
       "    <tr>\n",
       "      <th>155464</th>\n",
       "      <td>MainScreenAppear</td>\n",
       "      <td>95206628315371849</td>\n",
       "      <td>1565005724</td>\n",
       "      <td>A2</td>\n",
       "      <td>2019-08-05 11:48:44</td>\n",
       "      <td>2019-08-05</td>\n",
       "    </tr>\n",
       "    <tr>\n",
       "      <th>110479</th>\n",
       "      <td>MainScreenAppear</td>\n",
       "      <td>170935625628929269</td>\n",
       "      <td>1564897487</td>\n",
       "      <td>A1</td>\n",
       "      <td>2019-08-04 05:44:47</td>\n",
       "      <td>2019-08-04</td>\n",
       "    </tr>\n",
       "    <tr>\n",
       "      <th>17037</th>\n",
       "      <td>CartScreenAppear</td>\n",
       "      <td>197027893265565660</td>\n",
       "      <td>1564659614</td>\n",
       "      <td>A1</td>\n",
       "      <td>2019-08-01 11:40:14</td>\n",
       "      <td>2019-08-01</td>\n",
       "    </tr>\n",
       "    <tr>\n",
       "      <th>23421</th>\n",
       "      <td>CartScreenAppear</td>\n",
       "      <td>197027893265565660</td>\n",
       "      <td>1564668928</td>\n",
       "      <td>A1</td>\n",
       "      <td>2019-08-01 14:15:28</td>\n",
       "      <td>2019-08-01</td>\n",
       "    </tr>\n",
       "    <tr>\n",
       "      <th>34223</th>\n",
       "      <td>CartScreenAppear</td>\n",
       "      <td>197027893265565660</td>\n",
       "      <td>1564684544</td>\n",
       "      <td>A1</td>\n",
       "      <td>2019-08-01 18:35:44</td>\n",
       "      <td>2019-08-01</td>\n",
       "    </tr>\n",
       "    <tr>\n",
       "      <th>112562</th>\n",
       "      <td>CartScreenAppear</td>\n",
       "      <td>197027893265565660</td>\n",
       "      <td>1564902904</td>\n",
       "      <td>A1</td>\n",
       "      <td>2019-08-04 07:15:04</td>\n",
       "      <td>2019-08-04</td>\n",
       "    </tr>\n",
       "    <tr>\n",
       "      <th>144045</th>\n",
       "      <td>CartScreenAppear</td>\n",
       "      <td>197027893265565660</td>\n",
       "      <td>1564983860</td>\n",
       "      <td>A1</td>\n",
       "      <td>2019-08-05 05:44:20</td>\n",
       "      <td>2019-08-05</td>\n",
       "    </tr>\n",
       "    <tr>\n",
       "      <th>220672</th>\n",
       "      <td>MainScreenAppear</td>\n",
       "      <td>252409739172511110</td>\n",
       "      <td>1565167797</td>\n",
       "      <td>A1</td>\n",
       "      <td>2019-08-07 08:49:57</td>\n",
       "      <td>2019-08-07</td>\n",
       "    </tr>\n",
       "    <tr>\n",
       "      <th>235186</th>\n",
       "      <td>CartScreenAppear</td>\n",
       "      <td>299409047914517767</td>\n",
       "      <td>1565193055</td>\n",
       "      <td>B</td>\n",
       "      <td>2019-08-07 15:50:55</td>\n",
       "      <td>2019-08-07</td>\n",
       "    </tr>\n",
       "    <tr>\n",
       "      <th>32113</th>\n",
       "      <td>PaymentScreenSuccessful</td>\n",
       "      <td>366093607806007780</td>\n",
       "      <td>1564681254</td>\n",
       "      <td>A1</td>\n",
       "      <td>2019-08-01 17:40:54</td>\n",
       "      <td>2019-08-01</td>\n",
       "    </tr>\n",
       "    <tr>\n",
       "      <th>3573</th>\n",
       "      <td>MainScreenAppear</td>\n",
       "      <td>434103746454591587</td>\n",
       "      <td>1564628377</td>\n",
       "      <td>B</td>\n",
       "      <td>2019-08-01 02:59:37</td>\n",
       "      <td>2019-08-01</td>\n",
       "    </tr>\n",
       "    <tr>\n",
       "      <th>42988</th>\n",
       "      <td>CartScreenAppear</td>\n",
       "      <td>438481114985016111</td>\n",
       "      <td>1564722577</td>\n",
       "      <td>A2</td>\n",
       "      <td>2019-08-02 05:09:37</td>\n",
       "      <td>2019-08-02</td>\n",
       "    </tr>\n",
       "    <tr>\n",
       "      <th>84545</th>\n",
       "      <td>PaymentScreenSuccessful</td>\n",
       "      <td>510822730682036735</td>\n",
       "      <td>1564825850</td>\n",
       "      <td>B</td>\n",
       "      <td>2019-08-03 09:50:50</td>\n",
       "      <td>2019-08-03</td>\n",
       "    </tr>\n",
       "    <tr>\n",
       "      <th>84546</th>\n",
       "      <td>PaymentScreenSuccessful</td>\n",
       "      <td>510822730682036735</td>\n",
       "      <td>1564825850</td>\n",
       "      <td>B</td>\n",
       "      <td>2019-08-03 09:50:50</td>\n",
       "      <td>2019-08-03</td>\n",
       "    </tr>\n",
       "    <tr>\n",
       "      <th>86618</th>\n",
       "      <td>MainScreenAppear</td>\n",
       "      <td>538346255722523869</td>\n",
       "      <td>1564829504</td>\n",
       "      <td>A1</td>\n",
       "      <td>2019-08-03 10:51:44</td>\n",
       "      <td>2019-08-03</td>\n",
       "    </tr>\n",
       "    <tr>\n",
       "      <th>163986</th>\n",
       "      <td>MainScreenAppear</td>\n",
       "      <td>578778055564101635</td>\n",
       "      <td>1565017831</td>\n",
       "      <td>A2</td>\n",
       "      <td>2019-08-05 15:10:31</td>\n",
       "      <td>2019-08-05</td>\n",
       "    </tr>\n",
       "    <tr>\n",
       "      <th>44073</th>\n",
       "      <td>PaymentScreenSuccessful</td>\n",
       "      <td>636437379427729086</td>\n",
       "      <td>1564726205</td>\n",
       "      <td>A2</td>\n",
       "      <td>2019-08-02 06:10:05</td>\n",
       "      <td>2019-08-02</td>\n",
       "    </tr>\n",
       "    <tr>\n",
       "      <th>44074</th>\n",
       "      <td>PaymentScreenSuccessful</td>\n",
       "      <td>636437379427729086</td>\n",
       "      <td>1564726205</td>\n",
       "      <td>A2</td>\n",
       "      <td>2019-08-02 06:10:05</td>\n",
       "      <td>2019-08-02</td>\n",
       "    </tr>\n",
       "    <tr>\n",
       "      <th>44075</th>\n",
       "      <td>PaymentScreenSuccessful</td>\n",
       "      <td>636437379427729086</td>\n",
       "      <td>1564726205</td>\n",
       "      <td>A2</td>\n",
       "      <td>2019-08-02 06:10:05</td>\n",
       "      <td>2019-08-02</td>\n",
       "    </tr>\n",
       "    <tr>\n",
       "      <th>44077</th>\n",
       "      <td>PaymentScreenSuccessful</td>\n",
       "      <td>636437379427729086</td>\n",
       "      <td>1564726206</td>\n",
       "      <td>A2</td>\n",
       "      <td>2019-08-02 06:10:06</td>\n",
       "      <td>2019-08-02</td>\n",
       "    </tr>\n",
       "    <tr>\n",
       "      <th>44078</th>\n",
       "      <td>PaymentScreenSuccessful</td>\n",
       "      <td>636437379427729086</td>\n",
       "      <td>1564726206</td>\n",
       "      <td>A2</td>\n",
       "      <td>2019-08-02 06:10:06</td>\n",
       "      <td>2019-08-02</td>\n",
       "    </tr>\n",
       "    <tr>\n",
       "      <th>44079</th>\n",
       "      <td>PaymentScreenSuccessful</td>\n",
       "      <td>636437379427729086</td>\n",
       "      <td>1564726206</td>\n",
       "      <td>A2</td>\n",
       "      <td>2019-08-02 06:10:06</td>\n",
       "      <td>2019-08-02</td>\n",
       "    </tr>\n",
       "    <tr>\n",
       "      <th>44080</th>\n",
       "      <td>PaymentScreenSuccessful</td>\n",
       "      <td>636437379427729086</td>\n",
       "      <td>1564726206</td>\n",
       "      <td>A2</td>\n",
       "      <td>2019-08-02 06:10:06</td>\n",
       "      <td>2019-08-02</td>\n",
       "    </tr>\n",
       "    <tr>\n",
       "      <th>70387</th>\n",
       "      <td>MainScreenAppear</td>\n",
       "      <td>643792675919090543</td>\n",
       "      <td>1564772305</td>\n",
       "      <td>A1</td>\n",
       "      <td>2019-08-02 18:58:25</td>\n",
       "      <td>2019-08-02</td>\n",
       "    </tr>\n",
       "  </tbody>\n",
       "</table>\n",
       "</div>"
      ],
      "text/plain": [
       "                          event                user   timestamp group  \\\n",
       "130558         MainScreenAppear   33176906322804559  1564933075     B   \n",
       "130995       OffersScreenAppear   33176906322804559  1564933763     B   \n",
       "104108         CartScreenAppear   34565258828294726  1564857221     B   \n",
       "159302  PaymentScreenSuccessful   54903596035630984  1565011672     B   \n",
       "176813  PaymentScreenSuccessful   77364241990273403  1565044732    A1   \n",
       "189896         MainScreenAppear   91292479590032512  1565087723    A1   \n",
       "155464         MainScreenAppear   95206628315371849  1565005724    A2   \n",
       "110479         MainScreenAppear  170935625628929269  1564897487    A1   \n",
       "17037          CartScreenAppear  197027893265565660  1564659614    A1   \n",
       "23421          CartScreenAppear  197027893265565660  1564668928    A1   \n",
       "34223          CartScreenAppear  197027893265565660  1564684544    A1   \n",
       "112562         CartScreenAppear  197027893265565660  1564902904    A1   \n",
       "144045         CartScreenAppear  197027893265565660  1564983860    A1   \n",
       "220672         MainScreenAppear  252409739172511110  1565167797    A1   \n",
       "235186         CartScreenAppear  299409047914517767  1565193055     B   \n",
       "32113   PaymentScreenSuccessful  366093607806007780  1564681254    A1   \n",
       "3573           MainScreenAppear  434103746454591587  1564628377     B   \n",
       "42988          CartScreenAppear  438481114985016111  1564722577    A2   \n",
       "84545   PaymentScreenSuccessful  510822730682036735  1564825850     B   \n",
       "84546   PaymentScreenSuccessful  510822730682036735  1564825850     B   \n",
       "86618          MainScreenAppear  538346255722523869  1564829504    A1   \n",
       "163986         MainScreenAppear  578778055564101635  1565017831    A2   \n",
       "44073   PaymentScreenSuccessful  636437379427729086  1564726205    A2   \n",
       "44074   PaymentScreenSuccessful  636437379427729086  1564726205    A2   \n",
       "44075   PaymentScreenSuccessful  636437379427729086  1564726205    A2   \n",
       "44077   PaymentScreenSuccessful  636437379427729086  1564726206    A2   \n",
       "44078   PaymentScreenSuccessful  636437379427729086  1564726206    A2   \n",
       "44079   PaymentScreenSuccessful  636437379427729086  1564726206    A2   \n",
       "44080   PaymentScreenSuccessful  636437379427729086  1564726206    A2   \n",
       "70387          MainScreenAppear  643792675919090543  1564772305    A1   \n",
       "\n",
       "                  datetime       date  \n",
       "130558 2019-08-04 15:37:55 2019-08-04  \n",
       "130995 2019-08-04 15:49:23 2019-08-04  \n",
       "104108 2019-08-03 18:33:41 2019-08-03  \n",
       "159302 2019-08-05 13:27:52 2019-08-05  \n",
       "176813 2019-08-05 22:38:52 2019-08-05  \n",
       "189896 2019-08-06 10:35:23 2019-08-06  \n",
       "155464 2019-08-05 11:48:44 2019-08-05  \n",
       "110479 2019-08-04 05:44:47 2019-08-04  \n",
       "17037  2019-08-01 11:40:14 2019-08-01  \n",
       "23421  2019-08-01 14:15:28 2019-08-01  \n",
       "34223  2019-08-01 18:35:44 2019-08-01  \n",
       "112562 2019-08-04 07:15:04 2019-08-04  \n",
       "144045 2019-08-05 05:44:20 2019-08-05  \n",
       "220672 2019-08-07 08:49:57 2019-08-07  \n",
       "235186 2019-08-07 15:50:55 2019-08-07  \n",
       "32113  2019-08-01 17:40:54 2019-08-01  \n",
       "3573   2019-08-01 02:59:37 2019-08-01  \n",
       "42988  2019-08-02 05:09:37 2019-08-02  \n",
       "84545  2019-08-03 09:50:50 2019-08-03  \n",
       "84546  2019-08-03 09:50:50 2019-08-03  \n",
       "86618  2019-08-03 10:51:44 2019-08-03  \n",
       "163986 2019-08-05 15:10:31 2019-08-05  \n",
       "44073  2019-08-02 06:10:05 2019-08-02  \n",
       "44074  2019-08-02 06:10:05 2019-08-02  \n",
       "44075  2019-08-02 06:10:05 2019-08-02  \n",
       "44077  2019-08-02 06:10:06 2019-08-02  \n",
       "44078  2019-08-02 06:10:06 2019-08-02  \n",
       "44079  2019-08-02 06:10:06 2019-08-02  \n",
       "44080  2019-08-02 06:10:06 2019-08-02  \n",
       "70387  2019-08-02 18:58:25 2019-08-02  "
      ]
     },
     "execution_count": 31,
     "metadata": {},
     "output_type": "execute_result"
    }
   ],
   "source": [
    "df[df.duplicated()==True].sort_values(by=['user','datetime','event','group']).head(30)"
   ]
  },
  {
   "cell_type": "code",
   "execution_count": 32,
   "id": "2b057636",
   "metadata": {},
   "outputs": [
    {
     "data": {
      "text/html": [
       "<div>\n",
       "<style scoped>\n",
       "    .dataframe tbody tr th:only-of-type {\n",
       "        vertical-align: middle;\n",
       "    }\n",
       "\n",
       "    .dataframe tbody tr th {\n",
       "        vertical-align: top;\n",
       "    }\n",
       "\n",
       "    .dataframe thead th {\n",
       "        text-align: right;\n",
       "    }\n",
       "</style>\n",
       "<table border=\"1\" class=\"dataframe\">\n",
       "  <thead>\n",
       "    <tr style=\"text-align: right;\">\n",
       "      <th></th>\n",
       "      <th>event</th>\n",
       "      <th>user</th>\n",
       "      <th>timestamp</th>\n",
       "      <th>group</th>\n",
       "      <th>datetime</th>\n",
       "      <th>date</th>\n",
       "    </tr>\n",
       "  </thead>\n",
       "  <tbody>\n",
       "    <tr>\n",
       "      <th>44071</th>\n",
       "      <td>PaymentScreenSuccessful</td>\n",
       "      <td>636437379427729086</td>\n",
       "      <td>1564726205</td>\n",
       "      <td>A2</td>\n",
       "      <td>2019-08-02 06:10:05</td>\n",
       "      <td>2019-08-02</td>\n",
       "    </tr>\n",
       "    <tr>\n",
       "      <th>44073</th>\n",
       "      <td>PaymentScreenSuccessful</td>\n",
       "      <td>636437379427729086</td>\n",
       "      <td>1564726205</td>\n",
       "      <td>A2</td>\n",
       "      <td>2019-08-02 06:10:05</td>\n",
       "      <td>2019-08-02</td>\n",
       "    </tr>\n",
       "    <tr>\n",
       "      <th>44074</th>\n",
       "      <td>PaymentScreenSuccessful</td>\n",
       "      <td>636437379427729086</td>\n",
       "      <td>1564726205</td>\n",
       "      <td>A2</td>\n",
       "      <td>2019-08-02 06:10:05</td>\n",
       "      <td>2019-08-02</td>\n",
       "    </tr>\n",
       "    <tr>\n",
       "      <th>44075</th>\n",
       "      <td>PaymentScreenSuccessful</td>\n",
       "      <td>636437379427729086</td>\n",
       "      <td>1564726205</td>\n",
       "      <td>A2</td>\n",
       "      <td>2019-08-02 06:10:05</td>\n",
       "      <td>2019-08-02</td>\n",
       "    </tr>\n",
       "  </tbody>\n",
       "</table>\n",
       "</div>"
      ],
      "text/plain": [
       "                         event                user   timestamp group  \\\n",
       "44071  PaymentScreenSuccessful  636437379427729086  1564726205    A2   \n",
       "44073  PaymentScreenSuccessful  636437379427729086  1564726205    A2   \n",
       "44074  PaymentScreenSuccessful  636437379427729086  1564726205    A2   \n",
       "44075  PaymentScreenSuccessful  636437379427729086  1564726205    A2   \n",
       "\n",
       "                 datetime       date  \n",
       "44071 2019-08-02 06:10:05 2019-08-02  \n",
       "44073 2019-08-02 06:10:05 2019-08-02  \n",
       "44074 2019-08-02 06:10:05 2019-08-02  \n",
       "44075 2019-08-02 06:10:05 2019-08-02  "
      ]
     },
     "execution_count": 32,
     "metadata": {},
     "output_type": "execute_result"
    }
   ],
   "source": [
    "df[(df['user']==636437379427729086) & (df['datetime']=='2019-08-02 06:10:05')]"
   ]
  },
  {
   "cell_type": "markdown",
   "id": "e1404d3f",
   "metadata": {},
   "source": [
    "**Встретилось 4 дубликата.Удалим их.**"
   ]
  },
  {
   "cell_type": "code",
   "execution_count": 33,
   "id": "e3ef4c52",
   "metadata": {
    "scrolled": true
   },
   "outputs": [
    {
     "data": {
      "text/plain": [
       "'Кол-во оставшихся дубликатов ='"
      ]
     },
     "metadata": {},
     "output_type": "display_data"
    },
    {
     "data": {
      "text/plain": [
       "0"
      ]
     },
     "metadata": {},
     "output_type": "display_data"
    }
   ],
   "source": [
    "df = df.drop_duplicates()\n",
    "display('Кол-во оставшихся дубликатов =', df.duplicated().sum())"
   ]
  },
  {
   "cell_type": "code",
   "execution_count": 34,
   "id": "7c8b556b",
   "metadata": {},
   "outputs": [
    {
     "data": {
      "text/html": [
       "<div>\n",
       "<style scoped>\n",
       "    .dataframe tbody tr th:only-of-type {\n",
       "        vertical-align: middle;\n",
       "    }\n",
       "\n",
       "    .dataframe tbody tr th {\n",
       "        vertical-align: top;\n",
       "    }\n",
       "\n",
       "    .dataframe thead th {\n",
       "        text-align: right;\n",
       "    }\n",
       "</style>\n",
       "<table border=\"1\" class=\"dataframe\">\n",
       "  <thead>\n",
       "    <tr style=\"text-align: right;\">\n",
       "      <th></th>\n",
       "      <th>event</th>\n",
       "      <th>user</th>\n",
       "      <th>timestamp</th>\n",
       "      <th>group</th>\n",
       "      <th>datetime</th>\n",
       "      <th>date</th>\n",
       "    </tr>\n",
       "  </thead>\n",
       "  <tbody>\n",
       "    <tr>\n",
       "      <th>0</th>\n",
       "      <td>MainScreenAppear</td>\n",
       "      <td>4575588528974610257</td>\n",
       "      <td>1564029816</td>\n",
       "      <td>A1</td>\n",
       "      <td>2019-07-25 04:43:36</td>\n",
       "      <td>2019-07-25</td>\n",
       "    </tr>\n",
       "    <tr>\n",
       "      <th>1</th>\n",
       "      <td>MainScreenAppear</td>\n",
       "      <td>7416695313311560658</td>\n",
       "      <td>1564053102</td>\n",
       "      <td>A1</td>\n",
       "      <td>2019-07-25 11:11:42</td>\n",
       "      <td>2019-07-25</td>\n",
       "    </tr>\n",
       "    <tr>\n",
       "      <th>2</th>\n",
       "      <td>PaymentScreenSuccessful</td>\n",
       "      <td>3518123091307005509</td>\n",
       "      <td>1564054127</td>\n",
       "      <td>B</td>\n",
       "      <td>2019-07-25 11:28:47</td>\n",
       "      <td>2019-07-25</td>\n",
       "    </tr>\n",
       "    <tr>\n",
       "      <th>3</th>\n",
       "      <td>CartScreenAppear</td>\n",
       "      <td>3518123091307005509</td>\n",
       "      <td>1564054127</td>\n",
       "      <td>B</td>\n",
       "      <td>2019-07-25 11:28:47</td>\n",
       "      <td>2019-07-25</td>\n",
       "    </tr>\n",
       "    <tr>\n",
       "      <th>4</th>\n",
       "      <td>PaymentScreenSuccessful</td>\n",
       "      <td>6217807653094995999</td>\n",
       "      <td>1564055322</td>\n",
       "      <td>B</td>\n",
       "      <td>2019-07-25 11:48:42</td>\n",
       "      <td>2019-07-25</td>\n",
       "    </tr>\n",
       "    <tr>\n",
       "      <th>...</th>\n",
       "      <td>...</td>\n",
       "      <td>...</td>\n",
       "      <td>...</td>\n",
       "      <td>...</td>\n",
       "      <td>...</td>\n",
       "      <td>...</td>\n",
       "    </tr>\n",
       "    <tr>\n",
       "      <th>243708</th>\n",
       "      <td>MainScreenAppear</td>\n",
       "      <td>4599628364049201812</td>\n",
       "      <td>1565212345</td>\n",
       "      <td>A2</td>\n",
       "      <td>2019-08-07 21:12:25</td>\n",
       "      <td>2019-08-07</td>\n",
       "    </tr>\n",
       "    <tr>\n",
       "      <th>243709</th>\n",
       "      <td>MainScreenAppear</td>\n",
       "      <td>5849806612437486590</td>\n",
       "      <td>1565212439</td>\n",
       "      <td>A1</td>\n",
       "      <td>2019-08-07 21:13:59</td>\n",
       "      <td>2019-08-07</td>\n",
       "    </tr>\n",
       "    <tr>\n",
       "      <th>243710</th>\n",
       "      <td>MainScreenAppear</td>\n",
       "      <td>5746969938801999050</td>\n",
       "      <td>1565212483</td>\n",
       "      <td>A1</td>\n",
       "      <td>2019-08-07 21:14:43</td>\n",
       "      <td>2019-08-07</td>\n",
       "    </tr>\n",
       "    <tr>\n",
       "      <th>243711</th>\n",
       "      <td>MainScreenAppear</td>\n",
       "      <td>5746969938801999050</td>\n",
       "      <td>1565212498</td>\n",
       "      <td>A1</td>\n",
       "      <td>2019-08-07 21:14:58</td>\n",
       "      <td>2019-08-07</td>\n",
       "    </tr>\n",
       "    <tr>\n",
       "      <th>243712</th>\n",
       "      <td>OffersScreenAppear</td>\n",
       "      <td>5746969938801999050</td>\n",
       "      <td>1565212517</td>\n",
       "      <td>A1</td>\n",
       "      <td>2019-08-07 21:15:17</td>\n",
       "      <td>2019-08-07</td>\n",
       "    </tr>\n",
       "  </tbody>\n",
       "</table>\n",
       "<p>243713 rows × 6 columns</p>\n",
       "</div>"
      ],
      "text/plain": [
       "                          event                 user   timestamp group  \\\n",
       "0              MainScreenAppear  4575588528974610257  1564029816    A1   \n",
       "1              MainScreenAppear  7416695313311560658  1564053102    A1   \n",
       "2       PaymentScreenSuccessful  3518123091307005509  1564054127     B   \n",
       "3              CartScreenAppear  3518123091307005509  1564054127     B   \n",
       "4       PaymentScreenSuccessful  6217807653094995999  1564055322     B   \n",
       "...                         ...                  ...         ...   ...   \n",
       "243708         MainScreenAppear  4599628364049201812  1565212345    A2   \n",
       "243709         MainScreenAppear  5849806612437486590  1565212439    A1   \n",
       "243710         MainScreenAppear  5746969938801999050  1565212483    A1   \n",
       "243711         MainScreenAppear  5746969938801999050  1565212498    A1   \n",
       "243712       OffersScreenAppear  5746969938801999050  1565212517    A1   \n",
       "\n",
       "                  datetime       date  \n",
       "0      2019-07-25 04:43:36 2019-07-25  \n",
       "1      2019-07-25 11:11:42 2019-07-25  \n",
       "2      2019-07-25 11:28:47 2019-07-25  \n",
       "3      2019-07-25 11:28:47 2019-07-25  \n",
       "4      2019-07-25 11:48:42 2019-07-25  \n",
       "...                    ...        ...  \n",
       "243708 2019-08-07 21:12:25 2019-08-07  \n",
       "243709 2019-08-07 21:13:59 2019-08-07  \n",
       "243710 2019-08-07 21:14:43 2019-08-07  \n",
       "243711 2019-08-07 21:14:58 2019-08-07  \n",
       "243712 2019-08-07 21:15:17 2019-08-07  \n",
       "\n",
       "[243713 rows x 6 columns]"
      ]
     },
     "execution_count": 34,
     "metadata": {},
     "output_type": "execute_result"
    }
   ],
   "source": [
    "df = df.reset_index(drop=True)\n",
    "df"
   ]
  },
  {
   "cell_type": "markdown",
   "id": "00a84f8d",
   "metadata": {},
   "source": [
    "***Всё сходится 243713 строк.***"
   ]
  },
  {
   "cell_type": "markdown",
   "id": "c438f65b",
   "metadata": {},
   "source": [
    "## Мини-вывод:"
   ]
  },
  {
   "cell_type": "markdown",
   "id": "a7e4a64e",
   "metadata": {},
   "source": [
    "В процессе обработки были: \n",
    "  - заменены названия столбцов  \n",
    "  - были добавлены 2 столбца с датой и датой/временем,  \n",
    "  - проверены и приведены к нормальным типы,  \n",
    "  - заменены на более наглядные значения в столбце \"group\"   \n",
    "  - и убрано 413 дубликатов"
   ]
  },
  {
   "cell_type": "code",
   "execution_count": 35,
   "id": "3b87fd30",
   "metadata": {
    "scrolled": false
   },
   "outputs": [
    {
     "data": {
      "text/plain": [
       "'Кол-во уникальных пользователей по всей таблице ='"
      ]
     },
     "metadata": {},
     "output_type": "display_data"
    },
    {
     "data": {
      "text/plain": [
       "7551"
      ]
     },
     "metadata": {},
     "output_type": "display_data"
    },
    {
     "data": {
      "text/plain": [
       "'В группе A1 - 2489 уникальных пользователей'"
      ]
     },
     "metadata": {},
     "output_type": "display_data"
    },
    {
     "data": {
      "text/plain": [
       "'В группе B - 2542 уникальных пользователей'"
      ]
     },
     "metadata": {},
     "output_type": "display_data"
    },
    {
     "data": {
      "text/plain": [
       "'В группе A2 - 2520 уникальных пользователей'"
      ]
     },
     "metadata": {},
     "output_type": "display_data"
    },
    {
     "data": {
      "text/plain": [
       "'При сложениии 3 групп получается - 7551 уникальных пользователей'"
      ]
     },
     "metadata": {},
     "output_type": "display_data"
    }
   ],
   "source": [
    "display('Кол-во уникальных пользователей по всей таблице =', df['user'].nunique())\n",
    "sum = 0\n",
    "for g in df['group'].unique():\n",
    "    users_gr = df[df[\"group\"]==g][\"user\"].nunique()\n",
    "    sum = sum + users_gr\n",
    "    display(f'В группе {g} - {users_gr} уникальных пользователей')\n",
    "display(f'При сложениии 3 групп получается - {sum} уникальных пользователей')"
   ]
  },
  {
   "cell_type": "markdown",
   "id": "49a510a8",
   "metadata": {},
   "source": [
    "**По всей таблице вышло 7551 уникальных пользователей.Также расчитали уникальных пользователей в отдельных группах.Позже просуммируя всех уникальных пользователей вышло 7551.Значения совпадают,а значит,пользователи, которые есть одновременно в 2 или 3 группах отсутствуют, в противном случае суммы 7551 не совпадали бы**"
   ]
  },
  {
   "cell_type": "markdown",
   "id": "c59d00b6",
   "metadata": {},
   "source": [
    "## 2.1 Количество событий<a id=\"shag2.1\"></a>  \n",
    "\n",
    "Посчитаем сколько всего событий в логе."
   ]
  },
  {
   "cell_type": "code",
   "execution_count": 36,
   "id": "cbe28a00",
   "metadata": {},
   "outputs": [
    {
     "data": {
      "text/plain": [
       "MainScreenAppear           119101\n",
       "OffersScreenAppear          46808\n",
       "CartScreenAppear            42668\n",
       "PaymentScreenSuccessful     34118\n",
       "Tutorial                     1018\n",
       "Name: event, dtype: int64"
      ]
     },
     "execution_count": 36,
     "metadata": {},
     "output_type": "execute_result"
    }
   ],
   "source": [
    "df['event'].value_counts()"
   ]
  },
  {
   "cell_type": "code",
   "execution_count": 37,
   "id": "324bcd94",
   "metadata": {},
   "outputs": [
    {
     "data": {
      "text/plain": [
       "'Всего событий в таблице ='"
      ]
     },
     "metadata": {},
     "output_type": "display_data"
    },
    {
     "data": {
      "text/plain": [
       "243713"
      ]
     },
     "metadata": {},
     "output_type": "display_data"
    }
   ],
   "source": [
    "all_events = df['event'].count()\n",
    "display('Всего событий в таблице =', all_events)"
   ]
  },
  {
   "cell_type": "markdown",
   "id": "3b648bcd",
   "metadata": {},
   "source": [
    "## 2.2 Количество пользователей <a id=\"shag2.2\"></a>  \n"
   ]
  },
  {
   "cell_type": "markdown",
   "id": "611b3fc6",
   "metadata": {},
   "source": [
    "Посмотрим сколько всего пользователей в логе"
   ]
  },
  {
   "cell_type": "code",
   "execution_count": 38,
   "id": "9033a945",
   "metadata": {
    "scrolled": true
   },
   "outputs": [
    {
     "data": {
      "text/plain": [
       "'Уникальных пользователей в таблице ='"
      ]
     },
     "metadata": {},
     "output_type": "display_data"
    },
    {
     "data": {
      "text/plain": [
       "7551"
      ]
     },
     "metadata": {},
     "output_type": "display_data"
    }
   ],
   "source": [
    "users = df['user'].nunique()\n",
    "display('Уникальных пользователей в таблице =', users)"
   ]
  },
  {
   "cell_type": "markdown",
   "id": "9ed4900f",
   "metadata": {},
   "source": [
    "## 2.3 Среднее кол-во событий на пользователя <a id=\"shag2.3\"></a>  "
   ]
  },
  {
   "cell_type": "markdown",
   "id": "960b29f6",
   "metadata": {},
   "source": [
    "Посмотрим сколько в среднем событий приходится на пользователя."
   ]
  },
  {
   "cell_type": "code",
   "execution_count": 39,
   "id": "1c49d502",
   "metadata": {},
   "outputs": [
    {
     "data": {
      "text/plain": [
       "'Среднее кол-во событий на пользователя ='"
      ]
     },
     "metadata": {},
     "output_type": "display_data"
    },
    {
     "data": {
      "text/plain": [
       "32.3"
      ]
     },
     "metadata": {},
     "output_type": "display_data"
    }
   ],
   "source": [
    "display(\"Среднее кол-во событий на пользователя =\", (all_events / users).round(1))"
   ]
  },
  {
   "cell_type": "markdown",
   "id": "cc439238",
   "metadata": {},
   "source": [
    "**Проверим насколько уместно среднее значение. Посмотрим распределение Кол-ва событий на пользователя:**"
   ]
  },
  {
   "cell_type": "code",
   "execution_count": 40,
   "id": "41b3b2a1",
   "metadata": {
    "scrolled": true
   },
   "outputs": [
    {
     "data": {
      "text/plain": [
       "count    7551.000000\n",
       "mean       32.275593\n",
       "std        65.154219\n",
       "min         1.000000\n",
       "25%         9.000000\n",
       "50%        20.000000\n",
       "75%        37.000000\n",
       "max      2307.000000\n",
       "Name: event, dtype: float64"
      ]
     },
     "execution_count": 40,
     "metadata": {},
     "output_type": "execute_result"
    }
   ],
   "source": [
    "event_per_user = df.groupby('user')['event'].count()\n",
    "event_per_user.describe()"
   ]
  },
  {
   "cell_type": "code",
   "execution_count": 41,
   "id": "a7f11270",
   "metadata": {
    "scrolled": false
   },
   "outputs": [
    {
     "data": {
      "image/png": "[encoded data removed]",
      "text/plain": [
       "<Figure size 1080x288 with 1 Axes>"
      ]
     },
     "metadata": {
      "needs_background": "light"
     },
     "output_type": "display_data"
    }
   ],
   "source": [
    "plt.figure(figsize=(15,4))\n",
    "plt.hist(event_per_user, bins=100, range=(200,2310)) \n",
    "plt.xlabel('Кол-во пользователей')\n",
    "plt.grid()\n",
    "plt.ylabel('Кол-во событий')\n",
    "plt.title('Кол-ва событий на пользователя');"
   ]
  },
  {
   "cell_type": "markdown",
   "id": "2535771a",
   "metadata": {},
   "source": [
    "***Как видно действительно есть \"Выбросы\" аж свыше 2000 событий. Рациональнее при такой ситуации использовать медиану, а не среднее:***"
   ]
  },
  {
   "cell_type": "code",
   "execution_count": 42,
   "id": "e15423be",
   "metadata": {},
   "outputs": [
    {
     "data": {
      "text/plain": [
       "'Усредненное (Медианное) Кол-во событий на пользователя ='"
      ]
     },
     "metadata": {},
     "output_type": "display_data"
    },
    {
     "data": {
      "text/plain": [
       "20.0"
      ]
     },
     "metadata": {},
     "output_type": "display_data"
    }
   ],
   "source": [
    "display(\"Усредненное (Медианное) Кол-во событий на пользователя =\", event_per_user.median())"
   ]
  },
  {
   "cell_type": "markdown",
   "id": "3b812825",
   "metadata": {},
   "source": [
    "## 2.4 Распределение данных во времени <a id=\"shag2.4\"></a>  \n"
   ]
  },
  {
   "cell_type": "markdown",
   "id": "a364ff7c",
   "metadata": {},
   "source": [
    "Посмотрим за какой период у нас имеются данные,а потом, найдем максимальную и минимальную дату.Позже построим гистограмму по дате и времени."
   ]
  },
  {
   "cell_type": "code",
   "execution_count": 43,
   "id": "b7820324",
   "metadata": {},
   "outputs": [
    {
     "data": {
      "text/plain": [
       "'Период данных которым мы располагаем: с 2019-07-25 04:43:36 по 2019-08-07 21:15:17'"
      ]
     },
     "metadata": {},
     "output_type": "display_data"
    },
    {
     "data": {
      "text/plain": [
       "'Это период размером : 13 days 16:31:41'"
      ]
     },
     "metadata": {},
     "output_type": "display_data"
    }
   ],
   "source": [
    "display(f\"Период данных которым мы располагаем: с {df['datetime'].min()} по {df['datetime'].max()}\")\n",
    "display(f\"Это период размером : {df['datetime'].max() - df['datetime'].min()}\")"
   ]
  },
  {
   "cell_type": "markdown",
   "id": "d12080f2",
   "metadata": {},
   "source": [
    "***В общем период которым мы располагаем чуть меньше 2 недель.***"
   ]
  },
  {
   "cell_type": "code",
   "execution_count": 44,
   "id": "d28fe005",
   "metadata": {
    "scrolled": false
   },
   "outputs": [
    {
     "name": "stderr",
     "output_type": "stream",
     "text": [
      "C:\\Users\\User\\anaconda3\\lib\\site-packages\\seaborn\\_decorators.py:36: FutureWarning: Pass the following variables as keyword args: x, y. From version 0.12, the only valid positional argument will be `data`, and passing other arguments without an explicit keyword will result in an error or misinterpretation.\n",
      "  warnings.warn(\n"
     ]
    },
    {
     "data": {
      "image/png": "[encoded data removed]",
      "text/plain": [
       "<Figure size 1080x288 with 1 Axes>"
      ]
     },
     "metadata": {
      "needs_background": "light"
     },
     "output_type": "display_data"
    },
    {
     "name": "stderr",
     "output_type": "stream",
     "text": [
      "C:\\Users\\User\\anaconda3\\lib\\site-packages\\seaborn\\_decorators.py:36: FutureWarning: Pass the following variables as keyword args: x, y. From version 0.12, the only valid positional argument will be `data`, and passing other arguments without an explicit keyword will result in an error or misinterpretation.\n",
      "  warnings.warn(\n"
     ]
    },
    {
     "data": {
      "image/png": "[encoded data removed]",
      "text/plain": [
       "<Figure size 1080x288 with 1 Axes>"
      ]
     },
     "metadata": {
      "needs_background": "light"
     },
     "output_type": "display_data"
    },
    {
     "name": "stderr",
     "output_type": "stream",
     "text": [
      "C:\\Users\\User\\anaconda3\\lib\\site-packages\\seaborn\\_decorators.py:36: FutureWarning: Pass the following variables as keyword args: x, y. From version 0.12, the only valid positional argument will be `data`, and passing other arguments without an explicit keyword will result in an error or misinterpretation.\n",
      "  warnings.warn(\n"
     ]
    },
    {
     "data": {
      "image/png": "[encoded data removed]",
      "text/plain": [
       "<Figure size 1080x288 with 1 Axes>"
      ]
     },
     "metadata": {
      "needs_background": "light"
     },
     "output_type": "display_data"
    },
    {
     "name": "stderr",
     "output_type": "stream",
     "text": [
      "C:\\Users\\User\\anaconda3\\lib\\site-packages\\seaborn\\_decorators.py:36: FutureWarning: Pass the following variables as keyword args: x, y. From version 0.12, the only valid positional argument will be `data`, and passing other arguments without an explicit keyword will result in an error or misinterpretation.\n",
      "  warnings.warn(\n"
     ]
    },
    {
     "data": {
      "image/png": "[encoded data removed]",
      "text/plain": [
       "<Figure size 1080x288 with 1 Axes>"
      ]
     },
     "metadata": {
      "needs_background": "light"
     },
     "output_type": "display_data"
    }
   ],
   "source": [
    "df['dt10m'] = df['datetime'].dt.round('10T')\n",
    "dt10m_event = df.groupby('dt10m')['event'].count().reset_index()\n",
    "\n",
    "lim = (\n",
    "    ['2019-07-24','2019-08-10'],\n",
    "    ['2019-07-31','2019-08-03'],\n",
    "    ['2019-07-31 18:00:00', '2019-08-01 06:00:00'],\n",
    "    ['2019-07-31 20:30:00','2019-07-31 21:30:00']\n",
    ")\n",
    "\n",
    "for period in lim:\n",
    "    dt10m_per = dt10m_event[(dt10m_event['dt10m'] >= period[0]) & (dt10m_event['dt10m'] <= period[1])]\n",
    "    plt.figure(figsize=(15,4))\n",
    "    sns.lineplot(dt10m_per['dt10m'], dt10m_per['event'])\n",
    "    plt.xlabel('ВРЕМЯ')\n",
    "    plt.grid()\n",
    "    plt.ylabel('Кол-во событий')\n",
    "    plt.title('Распределение событий по времени');\n",
    "    plt.show();"
   ]
  },
  {
   "cell_type": "markdown",
   "id": "772f0c8f",
   "metadata": {},
   "source": [
    "***Глядя на первый график можно сказать, что реально мы располагаем данными за первые 7 дней августа. Данные в июле характеризуются очень низкой активностью (очень мало событий). Также отлично видно, что распределение событий в августе идет циклично - с утра кол-во событий нарастает, днем держится на максимуме, вечером падает и ночью на минимуме.***  \n",
    "\n",
    "***Хорошо видно, что данные за первую неделю сильно отличаются от второй. Скорее всего это была какая-то опробация или тестирование, а сбор данных уже начался со второй недели.Чтобы корректно провести анализ и тестирование надо \"отрезать\" события за июль, в силу их отсутствия. Из 3-го  и 4-го графиков можно выделить границу, где появляется существенное различие в распределении - это около 21:00 31 августа. Всё что раньше этого времени \"отрежем\" и будем проводить тестирование с данными примерно за 7 дней (которыми мы реально располагаем).***"
   ]
  },
  {
   "cell_type": "code",
   "execution_count": 45,
   "id": "747ae4c6",
   "metadata": {
    "scrolled": false
   },
   "outputs": [
    {
     "data": {
      "text/html": [
       "<div>\n",
       "<style scoped>\n",
       "    .dataframe tbody tr th:only-of-type {\n",
       "        vertical-align: middle;\n",
       "    }\n",
       "\n",
       "    .dataframe tbody tr th {\n",
       "        vertical-align: top;\n",
       "    }\n",
       "\n",
       "    .dataframe thead th {\n",
       "        text-align: right;\n",
       "    }\n",
       "</style>\n",
       "<table border=\"1\" class=\"dataframe\">\n",
       "  <thead>\n",
       "    <tr style=\"text-align: right;\">\n",
       "      <th></th>\n",
       "      <th>event</th>\n",
       "      <th>user</th>\n",
       "      <th>timestamp</th>\n",
       "      <th>group</th>\n",
       "      <th>datetime</th>\n",
       "      <th>date</th>\n",
       "      <th>dt10m</th>\n",
       "    </tr>\n",
       "  </thead>\n",
       "  <tbody>\n",
       "    <tr>\n",
       "      <th>0</th>\n",
       "      <td>MainScreenAppear</td>\n",
       "      <td>7701922487875823903</td>\n",
       "      <td>1564606857</td>\n",
       "      <td>A2</td>\n",
       "      <td>2019-07-31 21:00:57</td>\n",
       "      <td>2019-07-31</td>\n",
       "      <td>2019-07-31 21:00:00</td>\n",
       "    </tr>\n",
       "    <tr>\n",
       "      <th>1</th>\n",
       "      <td>MainScreenAppear</td>\n",
       "      <td>2539077412200498909</td>\n",
       "      <td>1564606905</td>\n",
       "      <td>A2</td>\n",
       "      <td>2019-07-31 21:01:45</td>\n",
       "      <td>2019-07-31</td>\n",
       "      <td>2019-07-31 21:00:00</td>\n",
       "    </tr>\n",
       "    <tr>\n",
       "      <th>2</th>\n",
       "      <td>OffersScreenAppear</td>\n",
       "      <td>3286987355161301427</td>\n",
       "      <td>1564606941</td>\n",
       "      <td>B</td>\n",
       "      <td>2019-07-31 21:02:21</td>\n",
       "      <td>2019-07-31</td>\n",
       "      <td>2019-07-31 21:00:00</td>\n",
       "    </tr>\n",
       "    <tr>\n",
       "      <th>3</th>\n",
       "      <td>OffersScreenAppear</td>\n",
       "      <td>3187166762535343300</td>\n",
       "      <td>1564606943</td>\n",
       "      <td>A2</td>\n",
       "      <td>2019-07-31 21:02:23</td>\n",
       "      <td>2019-07-31</td>\n",
       "      <td>2019-07-31 21:00:00</td>\n",
       "    </tr>\n",
       "    <tr>\n",
       "      <th>4</th>\n",
       "      <td>MainScreenAppear</td>\n",
       "      <td>1118952406011435924</td>\n",
       "      <td>1564607005</td>\n",
       "      <td>B</td>\n",
       "      <td>2019-07-31 21:03:25</td>\n",
       "      <td>2019-07-31</td>\n",
       "      <td>2019-07-31 21:00:00</td>\n",
       "    </tr>\n",
       "    <tr>\n",
       "      <th>...</th>\n",
       "      <td>...</td>\n",
       "      <td>...</td>\n",
       "      <td>...</td>\n",
       "      <td>...</td>\n",
       "      <td>...</td>\n",
       "      <td>...</td>\n",
       "      <td>...</td>\n",
       "    </tr>\n",
       "    <tr>\n",
       "      <th>241719</th>\n",
       "      <td>MainScreenAppear</td>\n",
       "      <td>4599628364049201812</td>\n",
       "      <td>1565212345</td>\n",
       "      <td>A2</td>\n",
       "      <td>2019-08-07 21:12:25</td>\n",
       "      <td>2019-08-07</td>\n",
       "      <td>2019-08-07 21:10:00</td>\n",
       "    </tr>\n",
       "    <tr>\n",
       "      <th>241720</th>\n",
       "      <td>MainScreenAppear</td>\n",
       "      <td>5849806612437486590</td>\n",
       "      <td>1565212439</td>\n",
       "      <td>A1</td>\n",
       "      <td>2019-08-07 21:13:59</td>\n",
       "      <td>2019-08-07</td>\n",
       "      <td>2019-08-07 21:10:00</td>\n",
       "    </tr>\n",
       "    <tr>\n",
       "      <th>241721</th>\n",
       "      <td>MainScreenAppear</td>\n",
       "      <td>5746969938801999050</td>\n",
       "      <td>1565212483</td>\n",
       "      <td>A1</td>\n",
       "      <td>2019-08-07 21:14:43</td>\n",
       "      <td>2019-08-07</td>\n",
       "      <td>2019-08-07 21:10:00</td>\n",
       "    </tr>\n",
       "    <tr>\n",
       "      <th>241722</th>\n",
       "      <td>MainScreenAppear</td>\n",
       "      <td>5746969938801999050</td>\n",
       "      <td>1565212498</td>\n",
       "      <td>A1</td>\n",
       "      <td>2019-08-07 21:14:58</td>\n",
       "      <td>2019-08-07</td>\n",
       "      <td>2019-08-07 21:10:00</td>\n",
       "    </tr>\n",
       "    <tr>\n",
       "      <th>241723</th>\n",
       "      <td>OffersScreenAppear</td>\n",
       "      <td>5746969938801999050</td>\n",
       "      <td>1565212517</td>\n",
       "      <td>A1</td>\n",
       "      <td>2019-08-07 21:15:17</td>\n",
       "      <td>2019-08-07</td>\n",
       "      <td>2019-08-07 21:20:00</td>\n",
       "    </tr>\n",
       "  </tbody>\n",
       "</table>\n",
       "<p>241724 rows × 7 columns</p>\n",
       "</div>"
      ],
      "text/plain": [
       "                     event                 user   timestamp group  \\\n",
       "0         MainScreenAppear  7701922487875823903  1564606857    A2   \n",
       "1         MainScreenAppear  2539077412200498909  1564606905    A2   \n",
       "2       OffersScreenAppear  3286987355161301427  1564606941     B   \n",
       "3       OffersScreenAppear  3187166762535343300  1564606943    A2   \n",
       "4         MainScreenAppear  1118952406011435924  1564607005     B   \n",
       "...                    ...                  ...         ...   ...   \n",
       "241719    MainScreenAppear  4599628364049201812  1565212345    A2   \n",
       "241720    MainScreenAppear  5849806612437486590  1565212439    A1   \n",
       "241721    MainScreenAppear  5746969938801999050  1565212483    A1   \n",
       "241722    MainScreenAppear  5746969938801999050  1565212498    A1   \n",
       "241723  OffersScreenAppear  5746969938801999050  1565212517    A1   \n",
       "\n",
       "                  datetime       date               dt10m  \n",
       "0      2019-07-31 21:00:57 2019-07-31 2019-07-31 21:00:00  \n",
       "1      2019-07-31 21:01:45 2019-07-31 2019-07-31 21:00:00  \n",
       "2      2019-07-31 21:02:21 2019-07-31 2019-07-31 21:00:00  \n",
       "3      2019-07-31 21:02:23 2019-07-31 2019-07-31 21:00:00  \n",
       "4      2019-07-31 21:03:25 2019-07-31 2019-07-31 21:00:00  \n",
       "...                    ...        ...                 ...  \n",
       "241719 2019-08-07 21:12:25 2019-08-07 2019-08-07 21:10:00  \n",
       "241720 2019-08-07 21:13:59 2019-08-07 2019-08-07 21:10:00  \n",
       "241721 2019-08-07 21:14:43 2019-08-07 2019-08-07 21:10:00  \n",
       "241722 2019-08-07 21:14:58 2019-08-07 2019-08-07 21:10:00  \n",
       "241723 2019-08-07 21:15:17 2019-08-07 2019-08-07 21:20:00  \n",
       "\n",
       "[241724 rows x 7 columns]"
      ]
     },
     "execution_count": 45,
     "metadata": {},
     "output_type": "execute_result"
    }
   ],
   "source": [
    "df = df.loc[df['datetime'] > '2019-07-31 21:00:00'].reset_index(drop=True)\n",
    "df.sort_values(by='datetime')"
   ]
  },
  {
   "cell_type": "markdown",
   "id": "b2fdfb20",
   "metadata": {},
   "source": [
    "**Убрали ненужные данные.**"
   ]
  },
  {
   "cell_type": "markdown",
   "id": "a3b389e2",
   "metadata": {},
   "source": [
    "## 2.5 Кол-во отрезаных данных <a id=\"shag2.5\"></a>  \n"
   ]
  },
  {
   "cell_type": "markdown",
   "id": "e3283499",
   "metadata": {},
   "source": [
    "Посмотрим много ли событий и пользователей мы потеряли, отбросив данные."
   ]
  },
  {
   "cell_type": "code",
   "execution_count": 46,
   "id": "f1b411af",
   "metadata": {},
   "outputs": [
    {
     "data": {
      "text/plain": [
       "'Было пользователей = 7551 / Стало = 7538 / На сколько уменьшилось = 13 / Потяря = 0.17%'"
      ]
     },
     "metadata": {},
     "output_type": "display_data"
    },
    {
     "data": {
      "text/plain": [
       "'Было событий = 243713 / Стало = 241724 / На сколько уменьшилось = 1989 / Потяря = 0.82%'"
      ]
     },
     "metadata": {},
     "output_type": "display_data"
    }
   ],
   "source": [
    "new_users = df['user'].nunique()\n",
    "display(f'Было пользователей = {users} / Стало = {new_users} / На сколько уменьшилось = {users-new_users} / Потяря = {round((users-new_users)/users*100,2)}%')\n",
    "\n",
    "new_events = df['event'].count()\n",
    "display(f'Было событий = {all_events} / Стало = {new_events} / На сколько уменьшилось = {all_events-new_events} / Потяря = {round((all_events-new_events)/all_events*100,2)}%')"
   ]
  },
  {
   "cell_type": "markdown",
   "id": "3d428390",
   "metadata": {},
   "source": [
    "***Итак, отбросив неделю июля, мы потеряли 0,17% пользователей - что совсем незначительно, и 0,82% (незначительно)  событий - что тоже вполне допустимо.***"
   ]
  },
  {
   "cell_type": "markdown",
   "id": "5e02f188",
   "metadata": {},
   "source": [
    "## 2.6 Проверка пользователей в группах <a id=\"shag2.6\"></a>  \n"
   ]
  },
  {
   "cell_type": "markdown",
   "id": "e9b75858",
   "metadata": {},
   "source": [
    "Посмотрим на имеющиеся выборки."
   ]
  },
  {
   "cell_type": "code",
   "execution_count": 47,
   "id": "d40c2285",
   "metadata": {},
   "outputs": [
    {
     "data": {
      "text/plain": [
       "B     84875\n",
       "A1    79556\n",
       "A2    77293\n",
       "Name: group, dtype: int64"
      ]
     },
     "execution_count": 47,
     "metadata": {},
     "output_type": "execute_result"
    }
   ],
   "source": [
    "df['group'].value_counts()"
   ]
  },
  {
   "cell_type": "code",
   "execution_count": 48,
   "id": "4a4d1acb",
   "metadata": {
    "scrolled": true
   },
   "outputs": [
    {
     "data": {
      "text/plain": [
       "group\n",
       "A1    2484\n",
       "A2    2517\n",
       "B     2537\n",
       "Name: user, dtype: int64"
      ]
     },
     "execution_count": 48,
     "metadata": {},
     "output_type": "execute_result"
    }
   ],
   "source": [
    "df.groupby('group')['user'].nunique()"
   ]
  },
  {
   "cell_type": "markdown",
   "id": "eebca7be",
   "metadata": {},
   "source": [
    "***Пользователей в каждой группе примерно по 2,5 тысячи, с незначительными отклонениями.***"
   ]
  },
  {
   "cell_type": "markdown",
   "id": "ea6eed93",
   "metadata": {},
   "source": [
    "## Мини-вывод"
   ]
  },
  {
   "cell_type": "markdown",
   "id": "cbf39546",
   "metadata": {},
   "source": [
    "***В ходе проверки данных выяснилось, что данные предоставлены с 25 ююля по 7 августа. Кол-во событий, происходивших в июле почти незначительно по сравнению с августовскими. Из этого сделан вывод, что это было какое-либо  тестирование или что-то похожее. Поэтому июльские данные принято исключить из анализа. В ходе исключения(отрезания) было отрезано 0,17% пользователей и 0,82% событий - что вполне допустимо, и существенно не должно повлиять на дальнейший анализ. Среднее кол-во событий пользователя равно 32, ноесть выбросы поэтому рациональней использовать медиану равную 20. Кол-во пользователей в каждой группе осталось примерно 2,5 тысячи, а событий примерно по 80 тысяч. Что довольно ровные данные.***"
   ]
  },
  {
   "cell_type": "markdown",
   "id": "03ade9f3",
   "metadata": {},
   "source": [
    "# Шаг 3. Изучение воронки событий <a id=\"shag3\"></a>  "
   ]
  },
  {
   "cell_type": "markdown",
   "id": "931ddd94",
   "metadata": {},
   "source": [
    "## 3.1 События <a id=\"shag3.1\"></a>  \n"
   ]
  },
  {
   "cell_type": "markdown",
   "id": "d65224df",
   "metadata": {},
   "source": [
    "Посмотрим какие события есть в логах и как часто они встречаются."
   ]
  },
  {
   "cell_type": "code",
   "execution_count": 49,
   "id": "179ed494",
   "metadata": {
    "scrolled": true
   },
   "outputs": [
    {
     "data": {
      "text/plain": [
       "'События в порядке убывания повторяемости:'"
      ]
     },
     "metadata": {},
     "output_type": "display_data"
    },
    {
     "data": {
      "text/plain": [
       "MainScreenAppear           117889\n",
       "OffersScreenAppear          46531\n",
       "CartScreenAppear            42343\n",
       "PaymentScreenSuccessful     33951\n",
       "Tutorial                     1010\n",
       "Name: event, dtype: int64"
      ]
     },
     "execution_count": 49,
     "metadata": {},
     "output_type": "execute_result"
    }
   ],
   "source": [
    "display('События в порядке убывания повторяемости:')\n",
    "df['event'].value_counts()"
   ]
  },
  {
   "cell_type": "markdown",
   "id": "7aa5b9cb",
   "metadata": {},
   "source": [
    "MainScreenAppear        - Главный экран  \n",
    "OffersScreenAppear      - Экран Предложений  \n",
    "CartScreenAppear        - Экран Корзины  \n",
    "PaymentScreenSuccessful - Платеж Успешен  \n",
    "Tutorial                - Руководство пользователя  "
   ]
  },
  {
   "cell_type": "code",
   "execution_count": 78,
   "id": "dd39d696",
   "metadata": {
    "scrolled": true
   },
   "outputs": [
    {
     "data": {
      "image/png": "[encoded data removed]",
      "text/plain": [
       "<Figure size 648x648 with 1 Axes>"
      ]
     },
     "metadata": {},
     "output_type": "display_data"
    }
   ],
   "source": [
    "plt.figure(figsize=(9, 9))\n",
    "fig = plt.pie(df['event'].value_counts(), labels=df['event'].value_counts().index, autopct='%1.1f%%')\n",
    "plt.legend(loc='upper left')\n",
    "plt.show()"
   ]
  },
  {
   "cell_type": "markdown",
   "id": "1f4ef385",
   "metadata": {},
   "source": [
    "***Почти половину (48,8%) событий это - \"Главный экран\", вторая половина это другие 3 события с близкими результатами - \"Экран Предложений\" (19,2%), \"Экран Корзины\" (17,5%) и Экран Платеж Успешен (14%). Остальное (0,4%) - \"Руководство пользователя\", почти незаметно, им похоже можно пренебречь в будущем.***"
   ]
  },
  {
   "cell_type": "markdown",
   "id": "9ed2e259",
   "metadata": {},
   "source": [
    " ## 3.2 Пользователи и события <a id=\"shag3.2\"></a>  "
   ]
  },
  {
   "cell_type": "markdown",
   "id": "413f46f1",
   "metadata": {},
   "source": [
    "Посчитаем, сколько пользователей совершали каждое из этих событий.А потом отсортируем события по числу пользователей и посчитаем долю пользователей, которые хоть раз совершали событие. "
   ]
  },
  {
   "cell_type": "code",
   "execution_count": 79,
   "id": "edae5d08",
   "metadata": {},
   "outputs": [
    {
     "data": {
      "text/html": [
       "<div>\n",
       "<style scoped>\n",
       "    .dataframe tbody tr th:only-of-type {\n",
       "        vertical-align: middle;\n",
       "    }\n",
       "\n",
       "    .dataframe tbody tr th {\n",
       "        vertical-align: top;\n",
       "    }\n",
       "\n",
       "    .dataframe thead th {\n",
       "        text-align: right;\n",
       "    }\n",
       "</style>\n",
       "<table border=\"1\" class=\"dataframe\">\n",
       "  <thead>\n",
       "    <tr style=\"text-align: right;\">\n",
       "      <th></th>\n",
       "      <th>event</th>\n",
       "      <th>n_events</th>\n",
       "      <th>users</th>\n",
       "      <th>users_part_1event</th>\n",
       "    </tr>\n",
       "  </thead>\n",
       "  <tbody>\n",
       "    <tr>\n",
       "      <th>0</th>\n",
       "      <td>MainScreenAppear</td>\n",
       "      <td>117889</td>\n",
       "      <td>7423</td>\n",
       "      <td>98.5</td>\n",
       "    </tr>\n",
       "    <tr>\n",
       "      <th>1</th>\n",
       "      <td>OffersScreenAppear</td>\n",
       "      <td>46531</td>\n",
       "      <td>4597</td>\n",
       "      <td>61.0</td>\n",
       "    </tr>\n",
       "    <tr>\n",
       "      <th>2</th>\n",
       "      <td>CartScreenAppear</td>\n",
       "      <td>42343</td>\n",
       "      <td>3736</td>\n",
       "      <td>49.6</td>\n",
       "    </tr>\n",
       "    <tr>\n",
       "      <th>3</th>\n",
       "      <td>PaymentScreenSuccessful</td>\n",
       "      <td>33951</td>\n",
       "      <td>3540</td>\n",
       "      <td>47.0</td>\n",
       "    </tr>\n",
       "    <tr>\n",
       "      <th>4</th>\n",
       "      <td>Tutorial</td>\n",
       "      <td>1010</td>\n",
       "      <td>843</td>\n",
       "      <td>11.2</td>\n",
       "    </tr>\n",
       "  </tbody>\n",
       "</table>\n",
       "</div>"
      ],
      "text/plain": [
       "                     event  n_events  users  users_part_1event\n",
       "0         MainScreenAppear    117889   7423               98.5\n",
       "1       OffersScreenAppear     46531   4597               61.0\n",
       "2         CartScreenAppear     42343   3736               49.6\n",
       "3  PaymentScreenSuccessful     33951   3540               47.0\n",
       "4                 Tutorial      1010    843               11.2"
      ]
     },
     "execution_count": 79,
     "metadata": {},
     "output_type": "execute_result"
    }
   ],
   "source": [
    "events_users = df.groupby('event').agg({'event':'count', 'user':'nunique'}).sort_values(by='user', ascending=False)\n",
    "events_users.columns = ['n_events', 'users']\n",
    "events_users = events_users.reset_index()\n",
    "events_users['users_part_1event'] = (events_users['users'] / new_users * 100).round(1) # доля хотя бы раз совершивших событие\n",
    "events_users"
   ]
  },
  {
   "cell_type": "markdown",
   "id": "e122c491",
   "metadata": {},
   "source": [
    "### Расшифровка"
   ]
  },
  {
   "cell_type": "markdown",
   "id": "a51b6321",
   "metadata": {},
   "source": [
    "* Столбец \"n_events\" - кол-во событий  \n",
    "* Столбец \"users\" - кол-во пользователей  \n",
    "* Столбец \"users_part_1event\" - доля пользователей \"получивших\" хотя бы одно событие"
   ]
  },
  {
   "cell_type": "markdown",
   "id": "febb1b7d",
   "metadata": {},
   "source": [
    "**Построим график \"События по числу пользователей\"**"
   ]
  },
  {
   "cell_type": "code",
   "execution_count": 80,
   "id": "32e15cf4",
   "metadata": {},
   "outputs": [
    {
     "data": {
      "image/png": "[encoded data removed]",
      "text/plain": [
       "<Figure size 864x432 with 1 Axes>"
      ]
     },
     "metadata": {
      "needs_background": "light"
     },
     "output_type": "display_data"
    }
   ],
   "source": [
    "plt.figure(figsize=(12,6))\n",
    "sns.barplot(y='users', x='event', data=events_users, palette='gnuplot_r');\n",
    "plt.xlabel('СОБЫТИЕ')\n",
    "plt.ylabel('Кол-во пользователей')\n",
    "plt.title('События по числу пользователей')\n",
    "plt.show();"
   ]
  },
  {
   "cell_type": "markdown",
   "id": "b8c14eb5",
   "metadata": {},
   "source": [
    "**Построим график по долям пользователей**"
   ]
  },
  {
   "cell_type": "code",
   "execution_count": 81,
   "id": "edbd330f",
   "metadata": {},
   "outputs": [
    {
     "data": {
      "image/png": "[encoded data removed]",
      "text/plain": [
       "<Figure size 864x432 with 1 Axes>"
      ]
     },
     "metadata": {
      "needs_background": "light"
     },
     "output_type": "display_data"
    }
   ],
   "source": [
    "plt.figure(figsize=(12,6))\n",
    "sns.barplot(y=('users_part_1event'), x='event', data=events_users, palette='gnuplot_r');\n",
    "plt.xlabel('СОБЫТИЕ')\n",
    "plt.ylabel('ДОЛЯ, %')\n",
    "plt.title('Доли пользователей совершивших хоть одно событие от всех пользователей')\n",
    "plt.show();"
   ]
  },
  {
   "cell_type": "markdown",
   "id": "ddb2c856",
   "metadata": {},
   "source": [
    "**Для понимания как распределены и насколько равномерно построим тоже самое по группам**"
   ]
  },
  {
   "cell_type": "code",
   "execution_count": 82,
   "id": "96a2f263",
   "metadata": {},
   "outputs": [
    {
     "data": {
      "text/html": [
       "<div>\n",
       "<style scoped>\n",
       "    .dataframe tbody tr th:only-of-type {\n",
       "        vertical-align: middle;\n",
       "    }\n",
       "\n",
       "    .dataframe tbody tr th {\n",
       "        vertical-align: top;\n",
       "    }\n",
       "\n",
       "    .dataframe thead th {\n",
       "        text-align: right;\n",
       "    }\n",
       "</style>\n",
       "<table border=\"1\" class=\"dataframe\">\n",
       "  <thead>\n",
       "    <tr style=\"text-align: right;\">\n",
       "      <th></th>\n",
       "      <th>event</th>\n",
       "      <th>group</th>\n",
       "      <th>n_events</th>\n",
       "      <th>users</th>\n",
       "      <th>users_part_1event</th>\n",
       "    </tr>\n",
       "  </thead>\n",
       "  <tbody>\n",
       "    <tr>\n",
       "      <th>0</th>\n",
       "      <td>MainScreenAppear</td>\n",
       "      <td>B</td>\n",
       "      <td>40740</td>\n",
       "      <td>2494</td>\n",
       "      <td>98.3</td>\n",
       "    </tr>\n",
       "    <tr>\n",
       "      <th>1</th>\n",
       "      <td>OffersScreenAppear</td>\n",
       "      <td>B</td>\n",
       "      <td>16465</td>\n",
       "      <td>1531</td>\n",
       "      <td>60.3</td>\n",
       "    </tr>\n",
       "    <tr>\n",
       "      <th>2</th>\n",
       "      <td>CartScreenAppear</td>\n",
       "      <td>B</td>\n",
       "      <td>15207</td>\n",
       "      <td>1231</td>\n",
       "      <td>48.5</td>\n",
       "    </tr>\n",
       "    <tr>\n",
       "      <th>3</th>\n",
       "      <td>PaymentScreenSuccessful</td>\n",
       "      <td>B</td>\n",
       "      <td>12110</td>\n",
       "      <td>1182</td>\n",
       "      <td>46.6</td>\n",
       "    </tr>\n",
       "    <tr>\n",
       "      <th>4</th>\n",
       "      <td>Tutorial</td>\n",
       "      <td>B</td>\n",
       "      <td>353</td>\n",
       "      <td>281</td>\n",
       "      <td>11.1</td>\n",
       "    </tr>\n",
       "    <tr>\n",
       "      <th>5</th>\n",
       "      <td>MainScreenAppear</td>\n",
       "      <td>A2</td>\n",
       "      <td>39294</td>\n",
       "      <td>2479</td>\n",
       "      <td>98.5</td>\n",
       "    </tr>\n",
       "    <tr>\n",
       "      <th>6</th>\n",
       "      <td>OffersScreenAppear</td>\n",
       "      <td>A2</td>\n",
       "      <td>15237</td>\n",
       "      <td>1524</td>\n",
       "      <td>60.5</td>\n",
       "    </tr>\n",
       "    <tr>\n",
       "      <th>7</th>\n",
       "      <td>CartScreenAppear</td>\n",
       "      <td>A2</td>\n",
       "      <td>12439</td>\n",
       "      <td>1239</td>\n",
       "      <td>49.2</td>\n",
       "    </tr>\n",
       "    <tr>\n",
       "      <th>8</th>\n",
       "      <td>PaymentScreenSuccessful</td>\n",
       "      <td>A2</td>\n",
       "      <td>9983</td>\n",
       "      <td>1158</td>\n",
       "      <td>46.0</td>\n",
       "    </tr>\n",
       "    <tr>\n",
       "      <th>9</th>\n",
       "      <td>Tutorial</td>\n",
       "      <td>A2</td>\n",
       "      <td>340</td>\n",
       "      <td>284</td>\n",
       "      <td>11.3</td>\n",
       "    </tr>\n",
       "    <tr>\n",
       "      <th>10</th>\n",
       "      <td>MainScreenAppear</td>\n",
       "      <td>A1</td>\n",
       "      <td>37855</td>\n",
       "      <td>2450</td>\n",
       "      <td>98.6</td>\n",
       "    </tr>\n",
       "    <tr>\n",
       "      <th>11</th>\n",
       "      <td>OffersScreenAppear</td>\n",
       "      <td>A1</td>\n",
       "      <td>14829</td>\n",
       "      <td>1542</td>\n",
       "      <td>62.1</td>\n",
       "    </tr>\n",
       "    <tr>\n",
       "      <th>12</th>\n",
       "      <td>CartScreenAppear</td>\n",
       "      <td>A1</td>\n",
       "      <td>14697</td>\n",
       "      <td>1266</td>\n",
       "      <td>51.0</td>\n",
       "    </tr>\n",
       "    <tr>\n",
       "      <th>13</th>\n",
       "      <td>PaymentScreenSuccessful</td>\n",
       "      <td>A1</td>\n",
       "      <td>11858</td>\n",
       "      <td>1200</td>\n",
       "      <td>48.3</td>\n",
       "    </tr>\n",
       "    <tr>\n",
       "      <th>14</th>\n",
       "      <td>Tutorial</td>\n",
       "      <td>A1</td>\n",
       "      <td>317</td>\n",
       "      <td>278</td>\n",
       "      <td>11.2</td>\n",
       "    </tr>\n",
       "  </tbody>\n",
       "</table>\n",
       "</div>"
      ],
      "text/plain": [
       "                      event group  n_events  users  users_part_1event\n",
       "0          MainScreenAppear     B     40740   2494               98.3\n",
       "1        OffersScreenAppear     B     16465   1531               60.3\n",
       "2          CartScreenAppear     B     15207   1231               48.5\n",
       "3   PaymentScreenSuccessful     B     12110   1182               46.6\n",
       "4                  Tutorial     B       353    281               11.1\n",
       "5          MainScreenAppear    A2     39294   2479               98.5\n",
       "6        OffersScreenAppear    A2     15237   1524               60.5\n",
       "7          CartScreenAppear    A2     12439   1239               49.2\n",
       "8   PaymentScreenSuccessful    A2      9983   1158               46.0\n",
       "9                  Tutorial    A2       340    284               11.3\n",
       "10         MainScreenAppear    A1     37855   2450               98.6\n",
       "11       OffersScreenAppear    A1     14829   1542               62.1\n",
       "12         CartScreenAppear    A1     14697   1266               51.0\n",
       "13  PaymentScreenSuccessful    A1     11858   1200               48.3\n",
       "14                 Tutorial    A1       317    278               11.2"
      ]
     },
     "execution_count": 82,
     "metadata": {},
     "output_type": "execute_result"
    }
   ],
   "source": [
    "events_users_bygroup = df.groupby(['event','group']).agg({'event':'count', 'user':'nunique'})\n",
    "events_users_bygroup.columns = ['n_events', 'users']\n",
    "events_users_bygroup = events_users_bygroup.reset_index()\n",
    "\n",
    "a1_users = df[df['group']=='A1']['user'].nunique()\n",
    "a2_users = df[df['group']=='A2']['user'].nunique()\n",
    "b_users = df[df['group']=='B']['user'].nunique()\n",
    "\n",
    "def users_part_group(row):\n",
    "    if row['group']=='A1':\n",
    "        return (row['users'] / a1_users * 100)\n",
    "    elif row['group']=='A2':\n",
    "        return (row['users'] / a2_users * 100)\n",
    "    elif row['group']=='B':\n",
    "        return (row['users'] / b_users * 100)\n",
    "\n",
    "events_users_bygroup['users_part_1event'] = events_users_bygroup.apply(users_part_group, axis=1)\n",
    "events_users_bygroup['users_part_1event']= events_users_bygroup['users_part_1event'].round(1)\n",
    "events_users_bygroup.sort_values(by=['group','users'], ascending=False).reset_index(drop=True)"
   ]
  },
  {
   "cell_type": "code",
   "execution_count": 84,
   "id": "d6035e30",
   "metadata": {},
   "outputs": [
    {
     "data": {
      "image/png": "[encoded data removed]",
      "text/plain": [
       "<Figure size 913.25x432 with 1 Axes>"
      ]
     },
     "metadata": {
      "needs_background": "light"
     },
     "output_type": "display_data"
    }
   ],
   "source": [
    "order = events_users['event']\n",
    "order\n",
    "\n",
    "\n",
    "sns.catplot(y=\"event\", x=\"users_part_1event\",\n",
    "                hue=\"group\", order=order, # col=\"time\", \n",
    "                data=events_users_bygroup, kind=\"bar\",\n",
    "                height=6, aspect=2.0)\n",
    "plt.ylabel('СОБЫТИЕ')\n",
    "plt.xlabel('ДОЛЯ, %')\n",
    "plt.title('Доли пользователей, совершивших хотя бы одно событие, от всех пользователей (по группам)');"
   ]
  },
  {
   "cell_type": "markdown",
   "id": "3e0ca4a3",
   "metadata": {},
   "source": [
    "***Данные по группам распределены довольно равномерно - результаты всех групп примерно похожи***"
   ]
  },
  {
   "cell_type": "markdown",
   "id": "61bf62c6",
   "metadata": {},
   "source": [
    "## Мини-вывод:"
   ]
  },
  {
   "cell_type": "markdown",
   "id": "24cf0fc4",
   "metadata": {},
   "source": [
    "**\"MainScreenAppear\" №1 - название события, где самое большое число Событий, Пользователей и Доли пользователей, а дальше в каждом последующем названии каждый из показателей убывает - №2, №3, №4, №5. Воронка выглядит следующим образом:**\n",
    "\n",
    "    1. MainScreenAppear - Главный экрана - Зашли на сайт\n",
    "    2. OffersScreenAppear - Экран Предложений - Искали товар по каталогу\n",
    "    3. CartScreenAppear - Экран Корзины - Добавили в корзину\n",
    "    4. PaymentScreenSuccessful - Платеж Успешен - Оплатили\n",
    "    5. Tutorial - Руководство пользователя - Изучали инструкцию"
   ]
  },
  {
   "cell_type": "markdown",
   "id": "58bab2cd",
   "metadata": {},
   "source": [
    "## 3.3 Порядок событий в воронке <a id=\"shag3.3\"></a>  "
   ]
  },
  {
   "cell_type": "markdown",
   "id": "70958866",
   "metadata": {},
   "source": [
    "По воронке событий посчитаем, какая доля пользователей проходит на следующий шаг воронки (от числа пользователей на предыдущем). То есть для последовательности событий A → B → C надо посчитать отношение числа пользователей с событием B к количеству пользователей с событием A, а также отношение числа пользователей с событием C к количеству пользователей с событием B."
   ]
  },
  {
   "cell_type": "markdown",
   "id": "fd65c140",
   "metadata": {},
   "source": [
    "**По-скольку данные по событияем довольно равномерные будем анализировать всех пользователей не разбивая их по группам** \n",
    "\n",
    "**Посмотрим как выглядит воронка по пользователям на каждом событие:**"
   ]
  },
  {
   "cell_type": "code",
   "execution_count": 120,
   "id": "b40aa237",
   "metadata": {},
   "outputs": [],
   "source": [
    "y = events_users['users']\n",
    "x = events_users['event']"
   ]
  },
  {
   "cell_type": "code",
   "execution_count": 121,
   "id": "12badd6a",
   "metadata": {
    "scrolled": false
   },
   "outputs": [
    {
     "data": {
      "image/png": "[encoded data removed]",
      "text/plain": [
       "<Figure size 432x288 with 1 Axes>"
      ]
     },
     "metadata": {
      "needs_background": "light"
     },
     "output_type": "display_data"
    }
   ],
   "source": [
    "fig, ax = plt.subplots()\n",
    "bars = ax.barh(x, y, color='green', align='center')\n",
    "\n",
    "\n",
    "ax.bar_label(bars)\n",
    "plt.show()"
   ]
  },
  {
   "cell_type": "markdown",
   "id": "8a9f3af8",
   "metadata": {},
   "source": [
    "**Теперь рассчитаем сколько процентов переходит на каждый последующий шаг относительно предыдущего и также добавим столбец с кол-вом пользователей в процентах, которые переходили на последующее событие относительно изначального числа пользователей**"
   ]
  },
  {
   "cell_type": "code",
   "execution_count": 97,
   "id": "00ed2e7f",
   "metadata": {},
   "outputs": [
    {
     "data": {
      "text/html": [
       "<div>\n",
       "<style scoped>\n",
       "    .dataframe tbody tr th:only-of-type {\n",
       "        vertical-align: middle;\n",
       "    }\n",
       "\n",
       "    .dataframe tbody tr th {\n",
       "        vertical-align: top;\n",
       "    }\n",
       "\n",
       "    .dataframe thead th {\n",
       "        text-align: right;\n",
       "    }\n",
       "</style>\n",
       "<table border=\"1\" class=\"dataframe\">\n",
       "  <thead>\n",
       "    <tr style=\"text-align: right;\">\n",
       "      <th></th>\n",
       "      <th>event</th>\n",
       "      <th>n_events</th>\n",
       "      <th>users</th>\n",
       "      <th>users_part_1event</th>\n",
       "      <th>welcome_from_last</th>\n",
       "      <th>welcome_from_start</th>\n",
       "    </tr>\n",
       "  </thead>\n",
       "  <tbody>\n",
       "    <tr>\n",
       "      <th>0</th>\n",
       "      <td>MainScreenAppear</td>\n",
       "      <td>117889</td>\n",
       "      <td>7423</td>\n",
       "      <td>98.5</td>\n",
       "      <td>100.0</td>\n",
       "      <td>100.0</td>\n",
       "    </tr>\n",
       "    <tr>\n",
       "      <th>1</th>\n",
       "      <td>OffersScreenAppear</td>\n",
       "      <td>46531</td>\n",
       "      <td>4597</td>\n",
       "      <td>61.0</td>\n",
       "      <td>61.9</td>\n",
       "      <td>61.9</td>\n",
       "    </tr>\n",
       "    <tr>\n",
       "      <th>2</th>\n",
       "      <td>CartScreenAppear</td>\n",
       "      <td>42343</td>\n",
       "      <td>3736</td>\n",
       "      <td>49.6</td>\n",
       "      <td>81.3</td>\n",
       "      <td>50.3</td>\n",
       "    </tr>\n",
       "    <tr>\n",
       "      <th>3</th>\n",
       "      <td>PaymentScreenSuccessful</td>\n",
       "      <td>33951</td>\n",
       "      <td>3540</td>\n",
       "      <td>47.0</td>\n",
       "      <td>94.8</td>\n",
       "      <td>47.7</td>\n",
       "    </tr>\n",
       "    <tr>\n",
       "      <th>4</th>\n",
       "      <td>Tutorial</td>\n",
       "      <td>1010</td>\n",
       "      <td>843</td>\n",
       "      <td>11.2</td>\n",
       "      <td>23.8</td>\n",
       "      <td>11.4</td>\n",
       "    </tr>\n",
       "  </tbody>\n",
       "</table>\n",
       "</div>"
      ],
      "text/plain": [
       "                     event  n_events  users  users_part_1event  \\\n",
       "0         MainScreenAppear    117889   7423               98.5   \n",
       "1       OffersScreenAppear     46531   4597               61.0   \n",
       "2         CartScreenAppear     42343   3736               49.6   \n",
       "3  PaymentScreenSuccessful     33951   3540               47.0   \n",
       "4                 Tutorial      1010    843               11.2   \n",
       "\n",
       "   welcome_from_last  welcome_from_start  \n",
       "0              100.0               100.0  \n",
       "1               61.9                61.9  \n",
       "2               81.3                50.3  \n",
       "3               94.8                47.7  \n",
       "4               23.8                11.4  "
      ]
     },
     "execution_count": 97,
     "metadata": {},
     "output_type": "execute_result"
    }
   ],
   "source": [
    "prev_users = events_users.loc[0,'users']\n",
    "start_users = prev_users\n",
    "\n",
    "for i in events_users.index:\n",
    "    events_users.loc[i,'welcome_from_last'] = (events_users.loc[i,'users'] / prev_users * 100).round(1)\n",
    "    events_users.loc[i,'welcome_from_start'] = (events_users.loc[i,'users'] / start_users * 100).round(1)\n",
    "    prev_users = events_users.loc[i,'users']\n",
    "events_users  "
   ]
  },
  {
   "cell_type": "markdown",
   "id": "b31e1222",
   "metadata": {},
   "source": [
    "**Построим воронку - какой процент пользователей  перешел на следующий этап относительно первого этапа воронки:**"
   ]
  },
  {
   "cell_type": "code",
   "execution_count": 118,
   "id": "d50d3f0a",
   "metadata": {},
   "outputs": [],
   "source": [
    "y = events_users['welcome_from_start']\n",
    "x = events_users['event']"
   ]
  },
  {
   "cell_type": "code",
   "execution_count": 119,
   "id": "84ca30e2",
   "metadata": {
    "scrolled": false
   },
   "outputs": [
    {
     "data": {
      "image/png": "[encoded data removed]",
      "text/plain": [
       "<Figure size 432x288 with 1 Axes>"
      ]
     },
     "metadata": {
      "needs_background": "light"
     },
     "output_type": "display_data"
    }
   ],
   "source": [
    "fig, ax = plt.subplots()\n",
    "bars = ax.barh(x, y, color='green', align='center')\n",
    "\n",
    "\n",
    "ax.bar_label(bars)\n",
    "plt.show()"
   ]
  },
  {
   "cell_type": "markdown",
   "id": "6ac06097",
   "metadata": {},
   "source": [
    "**Из этой воронки видно, что почти половина пользователей доходит до страницы \"PaymentScreenSuccessful\" с успешной оплатой. Очень хороший результат,учитывая, то что почти 40% отваливается после первого этапа!**\n",
    "\n",
    "**Но возможен вариант, что те пользователи которые не были на первом этапе \"MainScreenAppear\", а появились уже на последующих, те которые зашли на сайт до начала сбора данных и т.д. А нам надо отследить всех от начала до оплаты. И процент \"PaymentScreenSuccessful\" уже будет совсем другой.**"
   ]
  },
  {
   "cell_type": "code",
   "execution_count": 103,
   "id": "4d06a765",
   "metadata": {},
   "outputs": [],
   "source": [
    "funnel_users = df[df['event'] != 'Tutorial'].pivot_table(\n",
    "        index=['user', 'group'], \n",
    "        columns='event', \n",
    "        values='datetime',\n",
    "        aggfunc='min').reset_index()\n"
   ]
  },
  {
   "cell_type": "code",
   "execution_count": 107,
   "id": "bfe96e84",
   "metadata": {},
   "outputs": [],
   "source": [
    "step_1 = (~funnel_users['MainScreenAppear'].isna())\n",
    "step_2 = step_1 & (funnel_users['OffersScreenAppear'] > funnel_users['MainScreenAppear'])\n",
    "step_3 = step_2 & (funnel_users['CartScreenAppear'] > funnel_users['OffersScreenAppear'])\n",
    "step_4 = step_3 & (funnel_users['PaymentScreenSuccessful'] > funnel_users['CartScreenAppear'])\n",
    "n_MainScreenAppear = funnel_users[step_1].shape[0]\n",
    "n_OffersScreenAppear = funnel_users[step_2].shape[0]\n",
    "n_CartScreenAppear = funnel_users[step_3].shape[0]\n",
    "n_PaymentScreenSuccessful = funnel_users[step_4].shape[0]\n",
    "\n",
    "funnel_real = pd.DataFrame(columns = ['event', 'users'], data = [\n",
    "    ['MainScreenAppear',n_MainScreenAppear],\n",
    "    ['OffersScreenAppear',n_OffersScreenAppear],\n",
    "    ['CartScreenAppear',n_CartScreenAppear],\n",
    "    ['PaymentScreenSuccessful',n_PaymentScreenSuccessful]\n",
    "])"
   ]
  },
  {
   "cell_type": "code",
   "execution_count": 108,
   "id": "6a0dfebb",
   "metadata": {},
   "outputs": [
    {
     "data": {
      "text/html": [
       "<div>\n",
       "<style scoped>\n",
       "    .dataframe tbody tr th:only-of-type {\n",
       "        vertical-align: middle;\n",
       "    }\n",
       "\n",
       "    .dataframe tbody tr th {\n",
       "        vertical-align: top;\n",
       "    }\n",
       "\n",
       "    .dataframe thead th {\n",
       "        text-align: right;\n",
       "    }\n",
       "</style>\n",
       "<table border=\"1\" class=\"dataframe\">\n",
       "  <thead>\n",
       "    <tr style=\"text-align: right;\">\n",
       "      <th></th>\n",
       "      <th>event</th>\n",
       "      <th>users</th>\n",
       "    </tr>\n",
       "  </thead>\n",
       "  <tbody>\n",
       "    <tr>\n",
       "      <th>0</th>\n",
       "      <td>MainScreenAppear</td>\n",
       "      <td>7423</td>\n",
       "    </tr>\n",
       "    <tr>\n",
       "      <th>1</th>\n",
       "      <td>OffersScreenAppear</td>\n",
       "      <td>4203</td>\n",
       "    </tr>\n",
       "    <tr>\n",
       "      <th>2</th>\n",
       "      <td>CartScreenAppear</td>\n",
       "      <td>1781</td>\n",
       "    </tr>\n",
       "    <tr>\n",
       "      <th>3</th>\n",
       "      <td>PaymentScreenSuccessful</td>\n",
       "      <td>458</td>\n",
       "    </tr>\n",
       "  </tbody>\n",
       "</table>\n",
       "</div>"
      ],
      "text/plain": [
       "                     event  users\n",
       "0         MainScreenAppear   7423\n",
       "1       OffersScreenAppear   4203\n",
       "2         CartScreenAppear   1781\n",
       "3  PaymentScreenSuccessful    458"
      ]
     },
     "execution_count": 108,
     "metadata": {},
     "output_type": "execute_result"
    }
   ],
   "source": [
    "funnel_real"
   ]
  },
  {
   "cell_type": "code",
   "execution_count": 112,
   "id": "06ee1619",
   "metadata": {},
   "outputs": [],
   "source": [
    "x = funnel_real['event']\n",
    "y = funnel_real['users']"
   ]
  },
  {
   "cell_type": "code",
   "execution_count": 116,
   "id": "3abd4e18",
   "metadata": {},
   "outputs": [
    {
     "data": {
      "image/png": "[encoded data removed]",
      "text/plain": [
       "<Figure size 432x288 with 1 Axes>"
      ]
     },
     "metadata": {
      "needs_background": "light"
     },
     "output_type": "display_data"
    }
   ],
   "source": [
    "fig, ax = plt.subplots()\n",
    "bars = ax.barh(x, y, color='green', align='center')\n",
    "\n",
    "\n",
    "ax.bar_label(bars)\n",
    "plt.show()"
   ]
  },
  {
   "cell_type": "markdown",
   "id": "3b1471c8",
   "metadata": {},
   "source": [
    "Судя по графику,от первоначальных пользователей проходят оплату меньше людей,чем на предыдущем графике, это уже больше похоже на правду.\n",
    "\n",
    "Для большей уверенности в равномерности данных рассмотрим еще воронку в разрезе групп - \"funnel_group\":"
   ]
  },
  {
   "cell_type": "code",
   "execution_count": 151,
   "id": "b619d146",
   "metadata": {
    "scrolled": true
   },
   "outputs": [
    {
     "data": {
      "image/png": "[encoded data removed]",
      "text/plain": [
       "<Figure size 432x288 with 1 Axes>"
      ]
     },
     "metadata": {
      "needs_background": "light"
     },
     "output_type": "display_data"
    },
    {
     "data": {
      "image/png": "[encoded data removed]",
      "text/plain": [
       "<Figure size 432x288 with 1 Axes>"
      ]
     },
     "metadata": {
      "needs_background": "light"
     },
     "output_type": "display_data"
    },
    {
     "data": {
      "image/png": "[encoded data removed]",
      "text/plain": [
       "<Figure size 432x288 with 1 Axes>"
      ]
     },
     "metadata": {
      "needs_background": "light"
     },
     "output_type": "display_data"
    }
   ],
   "source": [
    "groups = ['A1','A2','B']\n",
    "funnel_group ={}\n",
    "for group in groups:\n",
    "    funnel_group[group] =[]\n",
    "    step_1 = (funnel_users['group']==group) & (~funnel_users['MainScreenAppear'].isna())\n",
    "    step_2 = step_1 & (funnel_users['OffersScreenAppear'] > funnel_users['MainScreenAppear'])\n",
    "    step_3 = step_2 & (funnel_users['CartScreenAppear'] > funnel_users['OffersScreenAppear'])\n",
    "    step_4 = step_3 & (funnel_users['PaymentScreenSuccessful'] > funnel_users['CartScreenAppear'])\n",
    "    funnel_group[group].append(funnel_users[step_1].shape[0])\n",
    "    funnel_group[group].append(funnel_users[step_2].shape[0])\n",
    "    funnel_group[group].append(funnel_users[step_3].shape[0])\n",
    "    funnel_group[group].append(funnel_users[step_4].shape[0])\n",
    "    \n",
    "color = ['lightblue','fuchsia','lightcoral']\n",
    "fig = plt.Figure()\n",
    "for i in range(len(groups)):\n",
    "    y = funnel_group[groups[i]]\n",
    "    x = funnel_real['event']\n",
    "    fig, ax = plt.subplots()\n",
    "    bars = ax.barh(x, y,color=color, align='center')\n",
    "    ax.bar_label(bars)\n",
    "    ax.plot([1, 2, 3], label=groups[i])\n",
    "    ax.legend()\n",
    "    plt.show()"
   ]
  },
  {
   "cell_type": "markdown",
   "id": "72d4a789",
   "metadata": {},
   "source": [
    "**Данные во всех трёх группах идут очень равномерно/пропорционально, и резельтаты соответственно очень похожи.**"
   ]
  },
  {
   "cell_type": "markdown",
   "id": "56372b92",
   "metadata": {},
   "source": [
    "## Вывод:"
   ]
  },
  {
   "cell_type": "markdown",
   "id": "017c8c06",
   "metadata": {},
   "source": [
    "- Воронка продаж идет по следующему порядку:\n",
    "\n",
    "    1. MainScreenAppear - Появление Главного экрана - Зашли на сайт\n",
    "    2. OffersScreenAppear - Появление Экрана Предложений - Искали товар по каталогу\n",
    "    3. CartScreenAppear - Появление Экрана Корзины - Добавили в корзину\n",
    "    4. PaymentScreenSuccessful - Экран Платеж Успешен - Оплатили\n",
    "    5. Tutorial - Руководство пользователя - Изучали инструкцию  \n",
    "\n",
    "- На второй этап воронки попадает 62% пользователей, а 38% \"теряются по дороге\". Это большая цифра и здесь необходимо веб-аналитикам выянить почему так происходит, наверняка есть возможность исправить ситуацию;\n",
    "\n",
    "- Пройдя по воронке, до экрана \"4. PaymentScreenSuccessful\" доходят 6-7% пользователей, то есть те кто становиться покупателями."
   ]
  },
  {
   "cell_type": "markdown",
   "id": "aceb3160",
   "metadata": {},
   "source": [
    "# Шаг 4. Изучение результатов эксперимента <a id=\"shag4\"></a>  "
   ]
  },
  {
   "cell_type": "markdown",
   "id": "d9a4f3d3",
   "metadata": {},
   "source": [
    "# 4.1 Кол-во пользователей в группах <a id=\"shag4.1\"></a> "
   ]
  },
  {
   "cell_type": "markdown",
   "id": "ea9db037",
   "metadata": {},
   "source": [
    "Посмотрим сколько пользователей в каждой экспериментальной группе"
   ]
  },
  {
   "cell_type": "code",
   "execution_count": 152,
   "id": "52b59a60",
   "metadata": {},
   "outputs": [
    {
     "data": {
      "text/plain": [
       "\"В группе 'A1' - 2484 пользователей\""
      ]
     },
     "metadata": {},
     "output_type": "display_data"
    },
    {
     "data": {
      "text/plain": [
       "\"В группе 'A2' - 2517 пользователей\""
      ]
     },
     "metadata": {},
     "output_type": "display_data"
    },
    {
     "data": {
      "text/plain": [
       "\"В группе 'B' - 2537 пользователей\""
      ]
     },
     "metadata": {},
     "output_type": "display_data"
    }
   ],
   "source": [
    "for g in groups:\n",
    "    display(f\"В группе '{g}' - {df[df['group']==g]['user'].nunique()} пользователей\")"
   ]
  },
  {
   "cell_type": "markdown",
   "id": "4b146c10",
   "metadata": {},
   "source": [
    "# 4.2 Эксперименты <a id=\"shag4.2\"></a> "
   ]
  },
  {
   "cell_type": "markdown",
   "id": "87838b65",
   "metadata": {},
   "source": [
    "- Есть 2 контрольные группы для А/А-эксперимента, чтобы проверить корректность всех механизмов и расчётов. Проверим, находят ли статистические критерии разницу между выборками 246(A1) и 247(A2).\n",
    "- Выберем самое популярное событие. Посчитаем число пользователей, совершивших это событие в каждой из контрольных групп. Посчитаем долю пользователей, совершивших это событие. Проверим, будет ли отличие между группами статистически достоверным. Проделаем то же самое для всех других событий (удобно обернуть проверку в отдельную функцию).Потом подумаем можно ли сказать, что разбиение на группы работает корректно?\n",
    "- Аналогично поступим с группой с изменённым шрифтом. Сравним результаты с каждой из контрольных групп в отдельности по каждому событию. Сравним результаты с объединённой контрольной группой. И в конце сделаем выводы."
   ]
  },
  {
   "cell_type": "markdown",
   "id": "bae65ff9",
   "metadata": {},
   "source": [
    "**Запишем кол-во пользователей по каждой группе в таблицу \"users_bygroup\":**\n"
   ]
  },
  {
   "cell_type": "code",
   "execution_count": 153,
   "id": "60091473",
   "metadata": {},
   "outputs": [
    {
     "data": {
      "text/plain": [
       "group\n",
       "A1       2484\n",
       "A2       2517\n",
       "B        2537\n",
       "A1+A2    5001\n",
       "Name: user, dtype: int64"
      ]
     },
     "execution_count": 153,
     "metadata": {},
     "output_type": "execute_result"
    }
   ],
   "source": [
    "users_bygroup = df.groupby('group')['user'].nunique()\n",
    "users_bygroup['A1+A2'] = users_bygroup['A1'] + users_bygroup['A2']\n",
    "users_bygroup"
   ]
  },
  {
   "cell_type": "markdown",
   "id": "b71438bf",
   "metadata": {},
   "source": [
    "***Разбивка на группы довольно равномерная и можно считать её корректной.***\n",
    "\n",
    "**Для проведения тестов составим таблицу \"event_group_test\", где указано число пользователей в воронке, идущей по событиям и по всем группам (исключая событие \"Tutorial\"):**"
   ]
  },
  {
   "cell_type": "code",
   "execution_count": 155,
   "id": "06555731",
   "metadata": {},
   "outputs": [
    {
     "data": {
      "text/html": [
       "<div>\n",
       "<style scoped>\n",
       "    .dataframe tbody tr th:only-of-type {\n",
       "        vertical-align: middle;\n",
       "    }\n",
       "\n",
       "    .dataframe tbody tr th {\n",
       "        vertical-align: top;\n",
       "    }\n",
       "\n",
       "    .dataframe thead th {\n",
       "        text-align: right;\n",
       "    }\n",
       "</style>\n",
       "<table border=\"1\" class=\"dataframe\">\n",
       "  <thead>\n",
       "    <tr style=\"text-align: right;\">\n",
       "      <th>group</th>\n",
       "      <th>event</th>\n",
       "      <th>A1</th>\n",
       "      <th>A2</th>\n",
       "      <th>B</th>\n",
       "      <th>A1+A2</th>\n",
       "      <th>all</th>\n",
       "      <th>percent_A1</th>\n",
       "      <th>percent_A2</th>\n",
       "      <th>percent_B</th>\n",
       "      <th>percent_A1+A2</th>\n",
       "    </tr>\n",
       "  </thead>\n",
       "  <tbody>\n",
       "    <tr>\n",
       "      <th>0</th>\n",
       "      <td>MainScreenAppear</td>\n",
       "      <td>2450</td>\n",
       "      <td>2479</td>\n",
       "      <td>2494</td>\n",
       "      <td>4929</td>\n",
       "      <td>7423</td>\n",
       "      <td>98.6</td>\n",
       "      <td>98.5</td>\n",
       "      <td>98.3</td>\n",
       "      <td>98.6</td>\n",
       "    </tr>\n",
       "    <tr>\n",
       "      <th>1</th>\n",
       "      <td>OffersScreenAppear</td>\n",
       "      <td>1542</td>\n",
       "      <td>1524</td>\n",
       "      <td>1531</td>\n",
       "      <td>3066</td>\n",
       "      <td>4597</td>\n",
       "      <td>62.1</td>\n",
       "      <td>60.5</td>\n",
       "      <td>60.3</td>\n",
       "      <td>61.3</td>\n",
       "    </tr>\n",
       "    <tr>\n",
       "      <th>2</th>\n",
       "      <td>CartScreenAppear</td>\n",
       "      <td>1266</td>\n",
       "      <td>1239</td>\n",
       "      <td>1231</td>\n",
       "      <td>2505</td>\n",
       "      <td>3736</td>\n",
       "      <td>51.0</td>\n",
       "      <td>49.2</td>\n",
       "      <td>48.5</td>\n",
       "      <td>50.1</td>\n",
       "    </tr>\n",
       "    <tr>\n",
       "      <th>3</th>\n",
       "      <td>PaymentScreenSuccessful</td>\n",
       "      <td>1200</td>\n",
       "      <td>1158</td>\n",
       "      <td>1182</td>\n",
       "      <td>2358</td>\n",
       "      <td>3540</td>\n",
       "      <td>48.3</td>\n",
       "      <td>46.0</td>\n",
       "      <td>46.6</td>\n",
       "      <td>47.2</td>\n",
       "    </tr>\n",
       "  </tbody>\n",
       "</table>\n",
       "</div>"
      ],
      "text/plain": [
       "group                    event    A1    A2     B  A1+A2   all  percent_A1  \\\n",
       "0             MainScreenAppear  2450  2479  2494   4929  7423        98.6   \n",
       "1           OffersScreenAppear  1542  1524  1531   3066  4597        62.1   \n",
       "2             CartScreenAppear  1266  1239  1231   2505  3736        51.0   \n",
       "3      PaymentScreenSuccessful  1200  1158  1182   2358  3540        48.3   \n",
       "\n",
       "group  percent_A2  percent_B  percent_A1+A2  \n",
       "0            98.5       98.3           98.6  \n",
       "1            60.5       60.3           61.3  \n",
       "2            49.2       48.5           50.1  \n",
       "3            46.0       46.6           47.2  "
      ]
     },
     "execution_count": 155,
     "metadata": {},
     "output_type": "execute_result"
    }
   ],
   "source": [
    "event_group_test = df[df['event']!='Tutorial'].pivot_table(\n",
    "    index='event', \n",
    "    columns='group', \n",
    "    values='user',\n",
    "    aggfunc='nunique').sort_values(by='A1', ascending=False)\n",
    "\n",
    "event_group_test = event_group_test.reset_index()\n",
    "event_group_test['A1+A2'] = event_group_test['A1'] + event_group_test['A2']\n",
    "event_group_test['all'] = event_group_test['A1+A2'] + event_group_test['B']\n",
    "\n",
    "event_group_test['percent_A1'] = (event_group_test['A1'] / users_bygroup['A1'] * 100).round(1)\n",
    "event_group_test['percent_A2'] = (event_group_test['A2'] / users_bygroup['A2'] * 100).round(1)\n",
    "event_group_test['percent_B'] = (event_group_test['B'] / users_bygroup['B'] * 100).round(1)\n",
    "event_group_test['percent_A1+A2'] = ((event_group_test['A1'] + event_group_test['A2']) / \\\n",
    "                                  (users_bygroup['A1'] + users_bygroup['A2']) * 100).round(1)\n",
    "\n",
    "event_group_test"
   ]
  },
  {
   "cell_type": "markdown",
   "id": "fadba9d4",
   "metadata": {},
   "source": [
    "Теперь напишем функцию \"test\" для проведения тестов, на вход подаются 3 параметра: группа1, группа2, alpha(уровень статистической значимости):"
   ]
  },
  {
   "cell_type": "code",
   "execution_count": 162,
   "id": "e6ad90b4",
   "metadata": {},
   "outputs": [
    {
     "data": {
      "text/plain": [
       "'MainScreenAppear p-значение: 0.6756217702005545'"
      ]
     },
     "metadata": {},
     "output_type": "display_data"
    },
    {
     "name": "stdout",
     "output_type": "stream",
     "text": [
      "Не получилось отвергнуть нулевую гипотезу, нет оснований считать доли разными\n"
     ]
    },
    {
     "data": {
      "text/plain": [
       "''"
      ]
     },
     "metadata": {},
     "output_type": "display_data"
    },
    {
     "data": {
      "text/plain": [
       "'OffersScreenAppear p-значение: 0.26698769175859516'"
      ]
     },
     "metadata": {},
     "output_type": "display_data"
    },
    {
     "name": "stdout",
     "output_type": "stream",
     "text": [
      "Не получилось отвергнуть нулевую гипотезу, нет оснований считать доли разными\n"
     ]
    },
    {
     "data": {
      "text/plain": [
       "''"
      ]
     },
     "metadata": {},
     "output_type": "display_data"
    },
    {
     "data": {
      "text/plain": [
       "'CartScreenAppear p-значение: 0.2182812140633792'"
      ]
     },
     "metadata": {},
     "output_type": "display_data"
    },
    {
     "name": "stdout",
     "output_type": "stream",
     "text": [
      "Не получилось отвергнуть нулевую гипотезу, нет оснований считать доли разными\n"
     ]
    },
    {
     "data": {
      "text/plain": [
       "''"
      ]
     },
     "metadata": {},
     "output_type": "display_data"
    },
    {
     "data": {
      "text/plain": [
       "'PaymentScreenSuccessful p-значение: 0.10298394982948822'"
      ]
     },
     "metadata": {},
     "output_type": "display_data"
    },
    {
     "name": "stdout",
     "output_type": "stream",
     "text": [
      "Не получилось отвергнуть нулевую гипотезу, нет оснований считать доли разными\n"
     ]
    },
    {
     "data": {
      "text/plain": [
       "''"
      ]
     },
     "metadata": {},
     "output_type": "display_data"
    }
   ],
   "source": [
    "def test(group1, group2, alpha):\n",
    "    for i in event_group_test.index:\n",
    "        p1 = event_group_test[group1][i] / users_bygroup[group1]\n",
    "        # пропорция успехов во второй группе:\n",
    "        p2 = event_group_test[group2][i] / users_bygroup[group2]\n",
    "        # пропорция успехов в комбинированном датасете:\n",
    "        p_combined = ((event_group_test[group1][i] + event_group_test[group2][i]) / \n",
    "                      (users_bygroup[group1] + users_bygroup[group2]))\n",
    "        # разница пропорций в датасетах\n",
    "        difference = p1 - p2\n",
    "        # считаем статистику в ст.отклонениях стандартного нормального распределения\n",
    "        z_value = difference / mth.sqrt(p_combined * (1 - p_combined) * \n",
    "                                        (1/users_bygroup[group1] + 1/users_bygroup[group2]))\n",
    "        # задаем стандартное нормальное распределение (среднее 0, ст.отклонение 1)\n",
    "        distr = st.norm(0, 1) \n",
    "        p_value = (1 - distr.cdf(abs(z_value))) * 2\n",
    "        display('{} p-значение: {}'.format(event_group_test['event'][i], p_value))\n",
    "        if (p_value < alpha):\n",
    "            print(\"Отвергаем нулевую гипотезу: между долями есть значимая разница\")\n",
    "        else:\n",
    "            print(\"Не получилось отвергнуть нулевую гипотезу, нет оснований считать доли разными\")\n",
    "        display('')\n",
    "        \n",
    "test(\"A1\", \"A2\", 0.01)"
   ]
  },
  {
   "cell_type": "markdown",
   "id": "1a7bcded",
   "metadata": {},
   "source": [
    "Так как группы A1/A2 должны быть одинаковыми, то над ними и контроль жестче. Поэтому для проведения A/A тестирования был взят уровень статистической значимости равный 1%. По результатам A1/A2 тестирования для всех событий разница не оказалось значимой, поэтому эти группы считаем контрольными.\n",
    "\n",
    "Так как для A/B теста не нужна высокая точность, то для дальнейших экспериментов буду выберать самый стандартный уровень значимости равный 5%. Дальше проведу еще 3 группы тестов: A1/B , A2/B , A1+A2/B"
   ]
  },
  {
   "cell_type": "markdown",
   "id": "b0e9966d",
   "metadata": {},
   "source": [
    "### A1/B - эксперимент:"
   ]
  },
  {
   "cell_type": "code",
   "execution_count": 163,
   "id": "bf87ae83",
   "metadata": {},
   "outputs": [
    {
     "data": {
      "text/plain": [
       "'MainScreenAppear p-значение: 0.34705881021236484'"
      ]
     },
     "metadata": {},
     "output_type": "display_data"
    },
    {
     "name": "stdout",
     "output_type": "stream",
     "text": [
      "Не получилось отвергнуть нулевую гипотезу, нет оснований считать доли разными\n"
     ]
    },
    {
     "data": {
      "text/plain": [
       "''"
      ]
     },
     "metadata": {},
     "output_type": "display_data"
    },
    {
     "data": {
      "text/plain": [
       "'OffersScreenAppear p-значение: 0.20836205402738917'"
      ]
     },
     "metadata": {},
     "output_type": "display_data"
    },
    {
     "name": "stdout",
     "output_type": "stream",
     "text": [
      "Не получилось отвергнуть нулевую гипотезу, нет оснований считать доли разными\n"
     ]
    },
    {
     "data": {
      "text/plain": [
       "''"
      ]
     },
     "metadata": {},
     "output_type": "display_data"
    },
    {
     "data": {
      "text/plain": [
       "'CartScreenAppear p-значение: 0.08328412977507749'"
      ]
     },
     "metadata": {},
     "output_type": "display_data"
    },
    {
     "name": "stdout",
     "output_type": "stream",
     "text": [
      "Не получилось отвергнуть нулевую гипотезу, нет оснований считать доли разными\n"
     ]
    },
    {
     "data": {
      "text/plain": [
       "''"
      ]
     },
     "metadata": {},
     "output_type": "display_data"
    },
    {
     "data": {
      "text/plain": [
       "'PaymentScreenSuccessful p-значение: 0.22269358994682742'"
      ]
     },
     "metadata": {},
     "output_type": "display_data"
    },
    {
     "name": "stdout",
     "output_type": "stream",
     "text": [
      "Не получилось отвергнуть нулевую гипотезу, нет оснований считать доли разными\n"
     ]
    },
    {
     "data": {
      "text/plain": [
       "''"
      ]
     },
     "metadata": {},
     "output_type": "display_data"
    }
   ],
   "source": [
    "test(\"A1\", \"B\", 0.05)"
   ]
  },
  {
   "cell_type": "markdown",
   "id": "de2ce005",
   "metadata": {},
   "source": [
    "### A2/B - эксперимент:"
   ]
  },
  {
   "cell_type": "code",
   "execution_count": 163,
   "id": "83b00120",
   "metadata": {},
   "outputs": [
    {
     "data": {
      "text/plain": [
       "'MainScreenAppear p-значение: 0.34705881021236484'"
      ]
     },
     "metadata": {},
     "output_type": "display_data"
    },
    {
     "name": "stdout",
     "output_type": "stream",
     "text": [
      "Не получилось отвергнуть нулевую гипотезу, нет оснований считать доли разными\n"
     ]
    },
    {
     "data": {
      "text/plain": [
       "''"
      ]
     },
     "metadata": {},
     "output_type": "display_data"
    },
    {
     "data": {
      "text/plain": [
       "'OffersScreenAppear p-значение: 0.20836205402738917'"
      ]
     },
     "metadata": {},
     "output_type": "display_data"
    },
    {
     "name": "stdout",
     "output_type": "stream",
     "text": [
      "Не получилось отвергнуть нулевую гипотезу, нет оснований считать доли разными\n"
     ]
    },
    {
     "data": {
      "text/plain": [
       "''"
      ]
     },
     "metadata": {},
     "output_type": "display_data"
    },
    {
     "data": {
      "text/plain": [
       "'CartScreenAppear p-значение: 0.08328412977507749'"
      ]
     },
     "metadata": {},
     "output_type": "display_data"
    },
    {
     "name": "stdout",
     "output_type": "stream",
     "text": [
      "Не получилось отвергнуть нулевую гипотезу, нет оснований считать доли разными\n"
     ]
    },
    {
     "data": {
      "text/plain": [
       "''"
      ]
     },
     "metadata": {},
     "output_type": "display_data"
    },
    {
     "data": {
      "text/plain": [
       "'PaymentScreenSuccessful p-значение: 0.22269358994682742'"
      ]
     },
     "metadata": {},
     "output_type": "display_data"
    },
    {
     "name": "stdout",
     "output_type": "stream",
     "text": [
      "Не получилось отвергнуть нулевую гипотезу, нет оснований считать доли разными\n"
     ]
    },
    {
     "data": {
      "text/plain": [
       "''"
      ]
     },
     "metadata": {},
     "output_type": "display_data"
    }
   ],
   "source": [
    "test(\"A2\", \"B\", 0.05)"
   ]
  },
  {
   "cell_type": "markdown",
   "id": "8a45af07",
   "metadata": {},
   "source": [
    "### А1+A2/B - эксперимент:"
   ]
  },
  {
   "cell_type": "code",
   "execution_count": 165,
   "id": "58dbaff3",
   "metadata": {
    "scrolled": true
   },
   "outputs": [
    {
     "data": {
      "text/plain": [
       "'MainScreenAppear p-значение: 0.39298914928006035'"
      ]
     },
     "metadata": {},
     "output_type": "display_data"
    },
    {
     "name": "stdout",
     "output_type": "stream",
     "text": [
      "Не получилось отвергнуть нулевую гипотезу, нет оснований считать доли разными\n"
     ]
    },
    {
     "data": {
      "text/plain": [
       "''"
      ]
     },
     "metadata": {},
     "output_type": "display_data"
    },
    {
     "data": {
      "text/plain": [
       "'OffersScreenAppear p-значение: 0.418998284007599'"
      ]
     },
     "metadata": {},
     "output_type": "display_data"
    },
    {
     "name": "stdout",
     "output_type": "stream",
     "text": [
      "Не получилось отвергнуть нулевую гипотезу, нет оснований считать доли разными\n"
     ]
    },
    {
     "data": {
      "text/plain": [
       "''"
      ]
     },
     "metadata": {},
     "output_type": "display_data"
    },
    {
     "data": {
      "text/plain": [
       "'CartScreenAppear p-значение: 0.19819340844527744'"
      ]
     },
     "metadata": {},
     "output_type": "display_data"
    },
    {
     "name": "stdout",
     "output_type": "stream",
     "text": [
      "Не получилось отвергнуть нулевую гипотезу, нет оснований считать доли разными\n"
     ]
    },
    {
     "data": {
      "text/plain": [
       "''"
      ]
     },
     "metadata": {},
     "output_type": "display_data"
    },
    {
     "data": {
      "text/plain": [
       "'PaymentScreenSuccessful p-значение: 0.6452057673098244'"
      ]
     },
     "metadata": {},
     "output_type": "display_data"
    },
    {
     "name": "stdout",
     "output_type": "stream",
     "text": [
      "Не получилось отвергнуть нулевую гипотезу, нет оснований считать доли разными\n"
     ]
    },
    {
     "data": {
      "text/plain": [
       "''"
      ]
     },
     "metadata": {},
     "output_type": "display_data"
    }
   ],
   "source": [
    "test(\"A1+A2\", \"B\", 0.05)"
   ]
  },
  {
   "cell_type": "markdown",
   "id": "900d8488",
   "metadata": {},
   "source": [
    "**Значимой разницы между группами во всех тестах не выявлено.**"
   ]
  },
  {
   "cell_type": "markdown",
   "id": "2d6a993a",
   "metadata": {},
   "source": [
    "# 4.3 Выводы <a id=\"shag4.3\"></a>  "
   ]
  },
  {
   "cell_type": "markdown",
   "id": "0ced3982",
   "metadata": {},
   "source": [
    "***В ходе анализа и эксперементов было сделано и выявлено:***\n",
    "\n",
    "**1. Изучение данных:**  \n",
    "  - В ходе проверки данных выяснилось, что данные предоставлены с 25 ююля по 7 августа. Кол-во событий, происходивших в июле почти незначительно по сравнению с августовскими. Из этого сделан вывод, что это было какое-либо тестирование или что-то похожее. Поэтому июльские данные принято исключить из анализа и оставить только период с 2019-07-31 21:00 часа. В ходе исключения(отрезания) было отрезано 0,17% пользователей и 0,82% событий - что вполне допустимо, и существенно не должно повлиять на дальнейший анализ.  \n",
    "  - Среднее кол-во событий пользователя равно 32, но есть выбросы поэтому рациональней использовать медиану равную 20.  \n",
    "  - Кол-во пользователей в каждой группе осталось примерно 2,5 тысячи, а событий примерно по 80 тысяч. Что довольно ровные данные.  \n",
    "\n",
    "**2. Воронка продаж:**  \n",
    "  - Идет по следующему порядку:\n",
    "      1. MainScreenAppear - Появление Главного экрана - Зашли на сайт  \n",
    "        -- Это самое популярное событие (117889 раз). Число пользователей совершивших самое популярное событие \"MainScreenAppear\" - 7423, примерно по 2,5 тысячи на группу. Доли пользователей совершивших самое популярное событие \"MainScreenAppear\" - 98,5%. По-скольку данные у нас \"обрезаны\", то вполне такое может быть, то есть существуют пользователи не совершившие первое событие (но совершившие другие). Также эти пользователи могли совершить его и еще раньще - до начала сбора данных.\n",
    "      2. OffersScreenAppear - Появление Экрана Предложений - Искали товар по каталогу\n",
    "      3. CartScreenAppear - Появление Экрана Корзины - Добавили в корзину\n",
    "      4. PaymentScreenSuccessful - Экран Платеж Успешен - Оплатили\n",
    "      5. Tutorial - Руководство пользователя - Изучали инструкцию  \n",
    "             \n",
    "  - На второй этап воронки попадает 62% пользователей, а 38% \"теряются по дороге\". Это большая цифра и здесь необходимо веб-аналитикам выянить почему так происходит, наверняка есть возможность исправить ситуацию;\n",
    "\n",
    "  - Событие \"5.Tutorial\" не несет полезной нагрузки, поэтому его можно не принимать во внимание;\n",
    "\n",
    "  - Пройдя по воронке, до экрана \"4. PaymentScreenSuccessful\" доходят 6-7% пользователей, то есть те кто становиться покупателями. Если брать просто кол-во пользователей, не \"отслеживая\" их по воронке то этот показатель аж 47%.  \n",
    "\n",
    "**3. А1/А2/B - эксперименты:**  \n",
    "  - В ходе тестирования были проведены 16 экспериментов:  \n",
    "      - A1/A1   - 4 эксперемента (для каждого события) / уровень статистической значимости - 1%  \n",
    "      - A1/B    - 4 эксперемента (для каждого события) / уровень статистической значимости - 5%  \n",
    "      - A2/B    - 4 эксперемента (для каждого события) / уровень статистической значимости - 5%  \n",
    "      - A1+A2/B - 4 эксперемента (для каждого события) / уровень статистической значимости - 5%  \n",
    "\n",
    "     \n",
    "  - Уровень статистической значимости в 10% был бы слишком велик так как в тесте не ожидаем изменений не менее чем 30% (в таком случае 10% погрешности измерений нас бы устроила). При уровне значимости 0.1 только одна из проверок покажет значимую разницу, между контрольной группой A1 и экспериментальной в доле перехода пользователей в корзину(CartScreenAppear), но эта разница будет не в пользу нашей экспериментальной группы. Но при уровне значимости 0.1 каждый десятый раз можно получать ложный результат, поэтому стоит применить изначально выбранный нами уровень значимости 0.05.\n",
    "\n",
    "\n",
    "   - В результате всех и каждого  A/A/B эксперемента значимой разницы между группами не выявлено. Поэтому можно утверждать, что на поведение пользователей изменение шрифта значимого эффекта не оказало. Тестирование можно назвать успешным - изменение шрифта не повлияло на поведение пользователей."
   ]
  },
  {
   "cell_type": "code",
   "execution_count": null,
   "id": "8bd7a970",
   "metadata": {},
   "outputs": [],
   "source": []
  }
 ],
 "metadata": {
  "kernelspec": {
   "display_name": "Python 3 (ipykernel)",
   "language": "python",
   "name": "python3"
  },
  "language_info": {
   "codemirror_mode": {
    "name": "ipython",
    "version": 3
   },
   "file_extension": ".py",
   "mimetype": "text/x-python",
   "name": "python",
   "nbconvert_exporter": "python",
   "pygments_lexer": "ipython3",
   "version": "3.9.7"
  }
 },
 "nbformat": 4,
 "nbformat_minor": 5
}
